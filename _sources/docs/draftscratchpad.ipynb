{
 "cells": [
  {
   "cell_type": "code",
   "execution_count": null,
   "metadata": {},
   "outputs": [],
   "source": [
    "driver = webdriver.Chrome(chrome_options=option, executable_path=PATH)\n",
    "\n",
    "keyword = \"electrical\"\n",
    "\n",
    "url = \"https://www.jobstreet.com.ph/en/job-search/\" + keyword + \"-jobs/\"\n",
    "\n",
    "driver.get(url)\n",
    "\n",
    "jobs = driver.find_elements_by_class_name('FYwKg _17IyL_6 _2-ij9_6 _3Vcu7_6 MtsXR_6')\n",
    "\n",
    "time.sleep(5)\n",
    "job_list = []\n",
    "\n",
    "for job in jobs:\n",
    "    position = job.find_element_by_xpath('//*[@id=\"jobList\"]/div[2]/div[3]/div/div[1]/div/div/article/div/div/div[1]/div[1]/div[2]/h1/a/div').text \n",
    "    company = job.find_element_by_xpath('//*[@id=\"jobList\"]/div[2]/div[3]/div/div[1]/div/div/article/div/div/div[1]/div[1]/div[2]/span').text\n",
    "    location = job.find_element_by_xpath('//*[@id=\"jobList\"]/div[2]/div[3]/div/div[1]/div/div/article/div/div/div[1]/div[1]/span[1]/span').text\n",
    "    salary = job.find_element_by_xpath('//*[@id=\"jobList\"]/div[2]/div[3]/div/div[1]/div/div/article/div/div/div[1]/div[1]/span[2]').text\n",
    "    \n",
    "    job_item = {\n",
    "        'position': position,\n",
    "        'company': company,\n",
    "        'location': location,\n",
    "        'salary': salary,  \n",
    "    }\n",
    "\n",
    "    job_list.append(job_item)\n",
    "\n",
    "df = pd.DataFrame(job_list)\n",
    "\n",
    "print(df)\n",
    "time.sleep(5)\n",
    "\n",
    "driver.quit()"
   ]
  },
  {
   "cell_type": "code",
   "execution_count": null,
   "metadata": {},
   "outputs": [],
   "source": [
    "driver = webdriver.Chrome(chrome_options=option, executable_path=PATH)\n",
    "driver.get(\"https://www.seek.com.au/\")\n",
    "\n",
    "\n",
    "searchTitle = driver.find_element_by_id(\"keywords-input\")\n",
    "searchTitle.send_keys(\"electrical\")\n",
    "searchTitle.send_keys(Keys.RETURN)\n",
    "\n",
    "#searchLocation = driver.find_element_by_id(\"locationAutoSuggest-aria-description\")\n",
    "\n",
    "\n",
    "print(searchTitle.text())\n",
    "\n",
    "\n",
    "time.sleep(5)\n",
    "\n",
    "\n",
    "driver.quit()"
   ]
  },
  {
   "cell_type": "code",
   "execution_count": null,
   "metadata": {},
   "outputs": [],
   "source": []
  },
  {
   "cell_type": "code",
   "execution_count": null,
   "metadata": {},
   "outputs": [],
   "source": [
    "/Volumes/data/projects/data/brazil/df_task.csv"
   ]
  }
 ],
 "metadata": {
  "kernelspec": {
   "display_name": "env-jupyterbook",
   "language": "python",
   "name": "env-jupyterbook"
  },
  "language_info": {
   "codemirror_mode": {
    "name": "ipython",
    "version": 3
   },
   "file_extension": ".py",
   "mimetype": "text/x-python",
   "name": "python",
   "nbconvert_exporter": "python",
   "pygments_lexer": "ipython3",
   "version": "3.7.9"
  }
 },
 "nbformat": 4,
 "nbformat_minor": 4
}
