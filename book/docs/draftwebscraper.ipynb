{
 "cells": [
  {
   "cell_type": "code",
   "execution_count": 47,
   "metadata": {},
   "outputs": [],
   "source": [
    "from selenium import webdriver\n",
    "from selenium.webdriver.common.keys import Keys\n",
    "from selenium.webdriver.chrome.options import Options\n",
    "from bs4 import BeautifulSoup\n",
    "\n",
    "import time\n",
    "import pandas as pd\n"
   ]
  },
  {
   "cell_type": "code",
   "execution_count": 51,
   "metadata": {},
   "outputs": [],
   "source": [
    "PATH  = \"/Volumes/data/projects/web-driver/chromedriver\""
   ]
  },
  {
   "cell_type": "code",
   "execution_count": 62,
   "metadata": {},
   "outputs": [],
   "source": [
    "option = Options()\n",
    "\n",
    "option.add_argument(\"--disable-infobars\")\n",
    "option.add_argument(\"start-maximized\")\n",
    "option.add_argument(\"--disable-extensions\")\n",
    "#option.add_argument('--headless')\n",
    "\n",
    "option.add_experimental_option ('excludeSwitches', ['enable-automation'])\n",
    "option.add_experimental_option('useAutomationExtension', False)\n",
    "\n",
    "\n",
    "\n",
    "# Pass the argument 1 to allow and 2 to block\n",
    "option.add_experimental_option(\"prefs\", { \n",
    "    \"profile.default_content_setting_values.notifications\": 1 \n",
    "})\n"
   ]
  },
  {
   "cell_type": "code",
   "execution_count": 64,
   "metadata": {},
   "outputs": [
    {
     "name": "stderr",
     "output_type": "stream",
     "text": [
      "/Users/Emman/opt/anaconda3/envs/env-jupyterbook/lib/python3.7/site-packages/ipykernel_launcher.py:1: DeprecationWarning: use options instead of chrome_options\n",
      "  \"\"\"Entry point for launching an IPython kernel.\n"
     ]
    },
    {
     "name": "stdout",
     "output_type": "stream",
     "text": [
      "                         position\n",
      "0  Fumigation Services Technician\n"
     ]
    }
   ],
   "source": [
    "driver = webdriver.Chrome(chrome_options=option, executable_path=PATH)\n",
    "\n",
    "keyword = \"electrical\"\n",
    "\n",
    "\n",
    "url = \"https://www.seek.co.nz/\" + keyword + \"-jobs/\"\n",
    "\n",
    "driver.get(url)\n",
    "\n",
    "jobs = driver.find_elements_by_class_name('_3MPUOLE')\n",
    "\n",
    "\n",
    "time.sleep(5)\n",
    "job_list = []\n",
    "\n",
    "for job in jobs:\n",
    "    position = job.find_element_by_xpath('//*[@id=\"app\"]/div/div[4]/div/div[2]/section/div[2]/div/div[2]/div[1]/div/div[2]/div/div[2]/div[1]/article/span[2]/span/h1/a').text \n",
    "    #company = job.find_element_by_xpath('//*[@id=\"app\"]/div/div[4]/div/div[2]/section/div[2]/div/div[2]/div[1]/div/div[2]/div/div[2]/div[3]/article/span[5]').text\n",
    "    #location = job.find_element_by_xpath('//*[@id=\"app\"]/div/div[4]/div/div[2]/section/div[2]/div/div[2]/div[1]/div/div[2]/div/div[2]/div[1]/article/div[1]/span[2]/span/strong/span/a').text\n",
    "    job_item = {\n",
    "        'position': position,\n",
    "     #   'company': company,\n",
    "     #   'location': location,\n",
    "    }\n",
    "    job_list.append(job_item)\n",
    "\n",
    "df = pd.DataFrame(job_list)\n",
    "\n",
    "print(df)\n",
    "time.sleep(5)\n",
    "\n",
    "driver.quit()"
   ]
  },
  {
   "cell_type": "code",
   "execution_count": 65,
   "metadata": {},
   "outputs": [],
   "source": [
    "driver.quit()"
   ]
  },
  {
   "cell_type": "code",
   "execution_count": 17,
   "metadata": {},
   "outputs": [],
   "source": []
  },
  {
   "cell_type": "code",
   "execution_count": null,
   "metadata": {},
   "outputs": [],
   "source": []
  }
 ],
 "metadata": {
  "kernelspec": {
   "display_name": "env-jupyterbook",
   "language": "python",
   "name": "env-jupyterbook"
  },
  "language_info": {
   "codemirror_mode": {
    "name": "ipython",
    "version": 3
   },
   "file_extension": ".py",
   "mimetype": "text/x-python",
   "name": "python",
   "nbconvert_exporter": "python",
   "pygments_lexer": "ipython3",
   "version": "3.7.9"
  }
 },
 "nbformat": 4,
 "nbformat_minor": 4
}
