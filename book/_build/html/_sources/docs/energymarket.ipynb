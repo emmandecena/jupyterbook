{
 "cells": [
  {
   "cell_type": "markdown",
   "metadata": {},
   "source": [
    "# Philippine electricity market\n",
    "\n",
    "In this article we explore the current structure of the Philippine electricity market based on the data provided by IEMOP and DOE. "
   ]
  },
  {
   "cell_type": "markdown",
   "metadata": {},
   "source": [
    "## Data Import\n",
    "\n",
    "The data comes from the published market participants list by IEMOP, the electricity market operator of the Philippines."
   ]
  },
  {
   "cell_type": "code",
   "execution_count": 1,
   "metadata": {},
   "outputs": [],
   "source": [
    "import pandas as pd\n",
    "import numpy as np\n",
    "import matplotlib.pyplot as plt"
   ]
  },
  {
   "cell_type": "code",
   "execution_count": 2,
   "metadata": {},
   "outputs": [],
   "source": [
    "def get_data(url):\n",
    "    html_data = pd.read_html(url)\n",
    "    data = html_data[0]\n",
    "    return data"
   ]
  },
  {
   "cell_type": "code",
   "execution_count": 50,
   "metadata": {},
   "outputs": [],
   "source": [
    "df_wesm = get_data('http://www.iemop.ph/the-market/participants/wesm-members/')"
   ]
  },
  {
   "cell_type": "code",
   "execution_count": 4,
   "metadata": {},
   "outputs": [],
   "source": [
    "df_retail = get_data('http://www.iemop.ph/the-market/participants/rcoa-tp/')"
   ]
  },
  {
   "cell_type": "markdown",
   "metadata": {},
   "source": [
    "## Exploratory Data Analysis\n",
    "\n",
    "We explore the dataset by looking at each column; looking at unique values, calculating summaries, and plotting distributions."
   ]
  },
  {
   "cell_type": "markdown",
   "metadata": {},
   "source": [
    "### Wholesale Electricity Spot Market\n",
    "\n",
    "This section discusses the data on Wholesale Electricity Spot Market participants."
   ]
  },
  {
   "cell_type": "markdown",
   "metadata": {},
   "source": [
    "First, we look at the column names to see the variables from the data."
   ]
  },
  {
   "cell_type": "code",
   "execution_count": 5,
   "metadata": {},
   "outputs": [
    {
     "data": {
      "text/plain": [
       "Index(['PARTICIPANT NAME', 'SHORT NAME', 'REGION', 'CATEGORY', 'MEMBERSHIP',\n",
       "       'RESOURCE', 'EFFECTIVE DATE', 'STATUS'],\n",
       "      dtype='object')"
      ]
     },
     "execution_count": 5,
     "metadata": {},
     "output_type": "execute_result"
    }
   ],
   "source": [
    "df_wesm.columns"
   ]
  },
  {
   "cell_type": "markdown",
   "metadata": {},
   "source": [
    "We get the counts of the unique values in each column."
   ]
  },
  {
   "cell_type": "code",
   "execution_count": 3,
   "metadata": {
    "scrolled": true
   },
   "outputs": [
    {
     "data": {
      "text/plain": [
       "PARTICIPANT NAME    307\n",
       "SHORT NAME          319\n",
       "REGION                4\n",
       "CATEGORY              5\n",
       "MEMBERSHIP            2\n",
       "RESOURCE            436\n",
       "EFFECTIVE DATE      242\n",
       "STATUS                4\n",
       "dtype: int64"
      ]
     },
     "execution_count": 3,
     "metadata": {},
     "output_type": "execute_result"
    }
   ],
   "source": [
    "df_wesm.nunique()"
   ]
  },
  {
   "cell_type": "markdown",
   "metadata": {},
   "source": [
    "#### Participant Name and Short Name\n",
    "\n",
    "From the counts above, we notice that `PARTICIPANT NAME` and `SHORT NAME` are not equal. This means that there are duplicate values for these variables. We investigate by performing a cross-tabulation."
   ]
  },
  {
   "cell_type": "code",
   "execution_count": 15,
   "metadata": {
    "scrolled": false
   },
   "outputs": [
    {
     "data": {
      "text/html": [
       "<div>\n",
       "<style scoped>\n",
       "    .dataframe tbody tr th:only-of-type {\n",
       "        vertical-align: middle;\n",
       "    }\n",
       "\n",
       "    .dataframe tbody tr th {\n",
       "        vertical-align: top;\n",
       "    }\n",
       "\n",
       "    .dataframe thead th {\n",
       "        text-align: right;\n",
       "    }\n",
       "</style>\n",
       "<table border=\"1\" class=\"dataframe\">\n",
       "  <thead>\n",
       "    <tr style=\"text-align: right;\">\n",
       "      <th>PARTICIPANT NAME</th>\n",
       "      <th>1590 Energy Corporation</th>\n",
       "      <th>AC Energy Philippines, Inc.</th>\n",
       "      <th>AES Philippines Inc.</th>\n",
       "      <th>AP Renewables Inc.</th>\n",
       "      <th>AP Renewables Inc. (APRI-Unocal Philippines)</th>\n",
       "      <th>Aboitiz Energy Solution Inc.</th>\n",
       "      <th>Abra Electric Cooperative Inc.</th>\n",
       "      <th>Absolut Distillers Inc.</th>\n",
       "      <th>Aklan Electric Cooperative Inc.</th>\n",
       "      <th>Albay Electric Cooperative Inc.</th>\n",
       "      <th>...</th>\n",
       "      <th>Visayan Oil Mills Inc.</th>\n",
       "      <th>Vivant Sta. Clara Northern Renewables Generation Corporation</th>\n",
       "      <th>Waterfront Mactan Casino Hotel Inc.</th>\n",
       "      <th>Western Mindanao Power Corporation</th>\n",
       "      <th>YH Green Energy Inc.</th>\n",
       "      <th>Zambales I Electric Cooperative Inc.</th>\n",
       "      <th>Zambales II Electric Cooperative Inc.</th>\n",
       "      <th>nv vogt Philippines Solar Energy Four Inc.</th>\n",
       "      <th>nv vogt Philippines Solar Energy Three Inc.</th>\n",
       "      <th>All</th>\n",
       "    </tr>\n",
       "    <tr>\n",
       "      <th>SHORT NAME</th>\n",
       "      <th></th>\n",
       "      <th></th>\n",
       "      <th></th>\n",
       "      <th></th>\n",
       "      <th></th>\n",
       "      <th></th>\n",
       "      <th></th>\n",
       "      <th></th>\n",
       "      <th></th>\n",
       "      <th></th>\n",
       "      <th></th>\n",
       "      <th></th>\n",
       "      <th></th>\n",
       "      <th></th>\n",
       "      <th></th>\n",
       "      <th></th>\n",
       "      <th></th>\n",
       "      <th></th>\n",
       "      <th></th>\n",
       "      <th></th>\n",
       "      <th></th>\n",
       "    </tr>\n",
       "  </thead>\n",
       "  <tbody>\n",
       "    <tr>\n",
       "      <th>WMPC</th>\n",
       "      <td>0</td>\n",
       "      <td>0</td>\n",
       "      <td>0</td>\n",
       "      <td>0</td>\n",
       "      <td>0</td>\n",
       "      <td>0</td>\n",
       "      <td>0</td>\n",
       "      <td>0</td>\n",
       "      <td>0</td>\n",
       "      <td>0</td>\n",
       "      <td>...</td>\n",
       "      <td>0</td>\n",
       "      <td>0</td>\n",
       "      <td>0</td>\n",
       "      <td>1</td>\n",
       "      <td>0</td>\n",
       "      <td>0</td>\n",
       "      <td>0</td>\n",
       "      <td>0</td>\n",
       "      <td>0</td>\n",
       "      <td>1</td>\n",
       "    </tr>\n",
       "    <tr>\n",
       "      <th>YHGEI</th>\n",
       "      <td>0</td>\n",
       "      <td>0</td>\n",
       "      <td>0</td>\n",
       "      <td>0</td>\n",
       "      <td>0</td>\n",
       "      <td>0</td>\n",
       "      <td>0</td>\n",
       "      <td>0</td>\n",
       "      <td>0</td>\n",
       "      <td>0</td>\n",
       "      <td>...</td>\n",
       "      <td>0</td>\n",
       "      <td>0</td>\n",
       "      <td>0</td>\n",
       "      <td>0</td>\n",
       "      <td>1</td>\n",
       "      <td>0</td>\n",
       "      <td>0</td>\n",
       "      <td>0</td>\n",
       "      <td>0</td>\n",
       "      <td>1</td>\n",
       "    </tr>\n",
       "    <tr>\n",
       "      <th>ZAMECO I</th>\n",
       "      <td>0</td>\n",
       "      <td>0</td>\n",
       "      <td>0</td>\n",
       "      <td>0</td>\n",
       "      <td>0</td>\n",
       "      <td>0</td>\n",
       "      <td>0</td>\n",
       "      <td>0</td>\n",
       "      <td>0</td>\n",
       "      <td>0</td>\n",
       "      <td>...</td>\n",
       "      <td>0</td>\n",
       "      <td>0</td>\n",
       "      <td>0</td>\n",
       "      <td>0</td>\n",
       "      <td>0</td>\n",
       "      <td>1</td>\n",
       "      <td>0</td>\n",
       "      <td>0</td>\n",
       "      <td>0</td>\n",
       "      <td>1</td>\n",
       "    </tr>\n",
       "    <tr>\n",
       "      <th>ZAMECO II</th>\n",
       "      <td>0</td>\n",
       "      <td>0</td>\n",
       "      <td>0</td>\n",
       "      <td>0</td>\n",
       "      <td>0</td>\n",
       "      <td>0</td>\n",
       "      <td>0</td>\n",
       "      <td>0</td>\n",
       "      <td>0</td>\n",
       "      <td>0</td>\n",
       "      <td>...</td>\n",
       "      <td>0</td>\n",
       "      <td>0</td>\n",
       "      <td>0</td>\n",
       "      <td>0</td>\n",
       "      <td>0</td>\n",
       "      <td>0</td>\n",
       "      <td>1</td>\n",
       "      <td>0</td>\n",
       "      <td>0</td>\n",
       "      <td>1</td>\n",
       "    </tr>\n",
       "    <tr>\n",
       "      <th>All</th>\n",
       "      <td>1</td>\n",
       "      <td>4</td>\n",
       "      <td>1</td>\n",
       "      <td>10</td>\n",
       "      <td>1</td>\n",
       "      <td>1</td>\n",
       "      <td>1</td>\n",
       "      <td>1</td>\n",
       "      <td>1</td>\n",
       "      <td>1</td>\n",
       "      <td>...</td>\n",
       "      <td>1</td>\n",
       "      <td>1</td>\n",
       "      <td>1</td>\n",
       "      <td>1</td>\n",
       "      <td>1</td>\n",
       "      <td>1</td>\n",
       "      <td>1</td>\n",
       "      <td>1</td>\n",
       "      <td>1</td>\n",
       "      <td>448</td>\n",
       "    </tr>\n",
       "  </tbody>\n",
       "</table>\n",
       "<p>5 rows × 308 columns</p>\n",
       "</div>"
      ],
      "text/plain": [
       "PARTICIPANT NAME  1590 Energy Corporation  AC Energy Philippines, Inc.  \\\n",
       "SHORT NAME                                                               \n",
       "WMPC                                    0                            0   \n",
       "YHGEI                                   0                            0   \n",
       "ZAMECO I                                0                            0   \n",
       "ZAMECO II                               0                            0   \n",
       "All                                     1                            4   \n",
       "\n",
       "PARTICIPANT NAME  AES Philippines Inc.  AP Renewables Inc.  \\\n",
       "SHORT NAME                                                   \n",
       "WMPC                                 0                   0   \n",
       "YHGEI                                0                   0   \n",
       "ZAMECO I                             0                   0   \n",
       "ZAMECO II                            0                   0   \n",
       "All                                  1                  10   \n",
       "\n",
       "PARTICIPANT NAME  AP Renewables Inc. (APRI-Unocal Philippines)  \\\n",
       "SHORT NAME                                                       \n",
       "WMPC                                                         0   \n",
       "YHGEI                                                        0   \n",
       "ZAMECO I                                                     0   \n",
       "ZAMECO II                                                    0   \n",
       "All                                                          1   \n",
       "\n",
       "PARTICIPANT NAME  Aboitiz Energy Solution Inc.  \\\n",
       "SHORT NAME                                       \n",
       "WMPC                                         0   \n",
       "YHGEI                                        0   \n",
       "ZAMECO I                                     0   \n",
       "ZAMECO II                                    0   \n",
       "All                                          1   \n",
       "\n",
       "PARTICIPANT NAME  Abra Electric Cooperative Inc.  Absolut Distillers Inc.  \\\n",
       "SHORT NAME                                                                  \n",
       "WMPC                                           0                        0   \n",
       "YHGEI                                          0                        0   \n",
       "ZAMECO I                                       0                        0   \n",
       "ZAMECO II                                      0                        0   \n",
       "All                                            1                        1   \n",
       "\n",
       "PARTICIPANT NAME  Aklan Electric Cooperative Inc.  \\\n",
       "SHORT NAME                                          \n",
       "WMPC                                            0   \n",
       "YHGEI                                           0   \n",
       "ZAMECO I                                        0   \n",
       "ZAMECO II                                       0   \n",
       "All                                             1   \n",
       "\n",
       "PARTICIPANT NAME  Albay Electric Cooperative Inc.  ...  \\\n",
       "SHORT NAME                                         ...   \n",
       "WMPC                                            0  ...   \n",
       "YHGEI                                           0  ...   \n",
       "ZAMECO I                                        0  ...   \n",
       "ZAMECO II                                       0  ...   \n",
       "All                                             1  ...   \n",
       "\n",
       "PARTICIPANT NAME  Visayan Oil Mills Inc.  \\\n",
       "SHORT NAME                                 \n",
       "WMPC                                   0   \n",
       "YHGEI                                  0   \n",
       "ZAMECO I                               0   \n",
       "ZAMECO II                              0   \n",
       "All                                    1   \n",
       "\n",
       "PARTICIPANT NAME  Vivant Sta. Clara Northern Renewables Generation Corporation  \\\n",
       "SHORT NAME                                                                       \n",
       "WMPC                                                              0              \n",
       "YHGEI                                                             0              \n",
       "ZAMECO I                                                          0              \n",
       "ZAMECO II                                                         0              \n",
       "All                                                               1              \n",
       "\n",
       "PARTICIPANT NAME  Waterfront Mactan Casino Hotel Inc.  \\\n",
       "SHORT NAME                                              \n",
       "WMPC                                                0   \n",
       "YHGEI                                               0   \n",
       "ZAMECO I                                            0   \n",
       "ZAMECO II                                           0   \n",
       "All                                                 1   \n",
       "\n",
       "PARTICIPANT NAME  Western Mindanao Power Corporation  YH Green Energy Inc.  \\\n",
       "SHORT NAME                                                                   \n",
       "WMPC                                               1                     0   \n",
       "YHGEI                                              0                     1   \n",
       "ZAMECO I                                           0                     0   \n",
       "ZAMECO II                                          0                     0   \n",
       "All                                                1                     1   \n",
       "\n",
       "PARTICIPANT NAME  Zambales I Electric Cooperative Inc.  \\\n",
       "SHORT NAME                                               \n",
       "WMPC                                                 0   \n",
       "YHGEI                                                0   \n",
       "ZAMECO I                                             1   \n",
       "ZAMECO II                                            0   \n",
       "All                                                  1   \n",
       "\n",
       "PARTICIPANT NAME  Zambales II Electric Cooperative Inc.  \\\n",
       "SHORT NAME                                                \n",
       "WMPC                                                  0   \n",
       "YHGEI                                                 0   \n",
       "ZAMECO I                                              0   \n",
       "ZAMECO II                                             1   \n",
       "All                                                   1   \n",
       "\n",
       "PARTICIPANT NAME  nv vogt Philippines Solar Energy Four Inc.  \\\n",
       "SHORT NAME                                                     \n",
       "WMPC                                                       0   \n",
       "YHGEI                                                      0   \n",
       "ZAMECO I                                                   0   \n",
       "ZAMECO II                                                  0   \n",
       "All                                                        1   \n",
       "\n",
       "PARTICIPANT NAME  nv vogt Philippines Solar Energy Three Inc.  All  \n",
       "SHORT NAME                                                          \n",
       "WMPC                                                        0    1  \n",
       "YHGEI                                                       0    1  \n",
       "ZAMECO I                                                    0    1  \n",
       "ZAMECO II                                                   0    1  \n",
       "All                                                         1  448  \n",
       "\n",
       "[5 rows x 308 columns]"
      ]
     },
     "execution_count": 15,
     "metadata": {},
     "output_type": "execute_result"
    }
   ],
   "source": [
    "df_cross = pd.crosstab(df_wesm['SHORT NAME'], df_wesm['PARTICIPANT NAME'],margins=True)\n",
    "df_cross.tail()"
   ]
  },
  {
   "cell_type": "markdown",
   "metadata": {},
   "source": [
    "Based on the tabulation, we can see that there are `PARTICIPANT NAME` with multiple `SHORT NAME`."
   ]
  },
  {
   "cell_type": "code",
   "execution_count": 17,
   "metadata": {},
   "outputs": [
    {
     "data": {
      "text/plain": [
       "SHORT NAME\n",
       "AFAB                  2\n",
       "AHC                   2\n",
       "APRI                 10\n",
       "BGI                   2\n",
       "CEDC                  3\n",
       "CENPRI                4\n",
       "EDC                   3\n",
       "FGHPC                 3\n",
       "FGP - San Lorenzo     2\n",
       "FGPCSTRA              4\n",
       "Name: All, dtype: int64"
      ]
     },
     "execution_count": 17,
     "metadata": {},
     "output_type": "execute_result"
    }
   ],
   "source": [
    "df_cross.All[(df_cross.All > 1)].head(n=10)\n"
   ]
  },
  {
   "cell_type": "markdown",
   "metadata": {},
   "source": [
    "We take a look at some of the values."
   ]
  },
  {
   "cell_type": "code",
   "execution_count": 18,
   "metadata": {},
   "outputs": [
    {
     "data": {
      "text/html": [
       "<div>\n",
       "<style scoped>\n",
       "    .dataframe tbody tr th:only-of-type {\n",
       "        vertical-align: middle;\n",
       "    }\n",
       "\n",
       "    .dataframe tbody tr th {\n",
       "        vertical-align: top;\n",
       "    }\n",
       "\n",
       "    .dataframe thead th {\n",
       "        text-align: right;\n",
       "    }\n",
       "</style>\n",
       "<table border=\"1\" class=\"dataframe\">\n",
       "  <thead>\n",
       "    <tr style=\"text-align: right;\">\n",
       "      <th></th>\n",
       "      <th>PARTICIPANT NAME</th>\n",
       "      <th>SHORT NAME</th>\n",
       "      <th>REGION</th>\n",
       "      <th>CATEGORY</th>\n",
       "      <th>MEMBERSHIP</th>\n",
       "      <th>RESOURCE</th>\n",
       "      <th>EFFECTIVE DATE</th>\n",
       "      <th>STATUS</th>\n",
       "    </tr>\n",
       "  </thead>\n",
       "  <tbody>\n",
       "    <tr>\n",
       "      <th>57</th>\n",
       "      <td>AP Renewables Inc.</td>\n",
       "      <td>APRI</td>\n",
       "      <td>LUZON</td>\n",
       "      <td>GENERATOR</td>\n",
       "      <td>DIRECT</td>\n",
       "      <td>Tiwi Geothermal Power Plant</td>\n",
       "      <td>05/26/2009</td>\n",
       "      <td>REGISTERED</td>\n",
       "    </tr>\n",
       "    <tr>\n",
       "      <th>58</th>\n",
       "      <td>AP Renewables Inc.</td>\n",
       "      <td>APRI</td>\n",
       "      <td>LUZON</td>\n",
       "      <td>GENERATOR</td>\n",
       "      <td>DIRECT</td>\n",
       "      <td>Makban Geothermal Power Plant A</td>\n",
       "      <td>05/26/2009</td>\n",
       "      <td>REGISTERED</td>\n",
       "    </tr>\n",
       "    <tr>\n",
       "      <th>59</th>\n",
       "      <td>AP Renewables Inc.</td>\n",
       "      <td>APRI</td>\n",
       "      <td>LUZON</td>\n",
       "      <td>GENERATOR</td>\n",
       "      <td>DIRECT</td>\n",
       "      <td>Makban Geothermal Power Plant D</td>\n",
       "      <td>05/26/2009</td>\n",
       "      <td>REGISTERED</td>\n",
       "    </tr>\n",
       "    <tr>\n",
       "      <th>60</th>\n",
       "      <td>AP Renewables Inc.</td>\n",
       "      <td>APRI</td>\n",
       "      <td>LUZON</td>\n",
       "      <td>GENERATOR</td>\n",
       "      <td>DIRECT</td>\n",
       "      <td>Makban Geothermal Power Plant C</td>\n",
       "      <td>05/26/2009</td>\n",
       "      <td>REGISTERED</td>\n",
       "    </tr>\n",
       "    <tr>\n",
       "      <th>61</th>\n",
       "      <td>AP Renewables Inc.</td>\n",
       "      <td>APRI</td>\n",
       "      <td>LUZON</td>\n",
       "      <td>GENERATOR</td>\n",
       "      <td>DIRECT</td>\n",
       "      <td>Ormat-Makban Binary Geothermal Power Plant</td>\n",
       "      <td>05/26/2009</td>\n",
       "      <td>REGISTERED</td>\n",
       "    </tr>\n",
       "    <tr>\n",
       "      <th>62</th>\n",
       "      <td>AP Renewables Inc.</td>\n",
       "      <td>APRI</td>\n",
       "      <td>LUZON</td>\n",
       "      <td>GENERATOR</td>\n",
       "      <td>DIRECT</td>\n",
       "      <td>Tiwi Geothermal Power Plant A</td>\n",
       "      <td>05/26/2009</td>\n",
       "      <td>REGISTERED</td>\n",
       "    </tr>\n",
       "    <tr>\n",
       "      <th>63</th>\n",
       "      <td>AP Renewables Inc.</td>\n",
       "      <td>APRI</td>\n",
       "      <td>LUZON</td>\n",
       "      <td>GENERATOR</td>\n",
       "      <td>DIRECT</td>\n",
       "      <td>Tiwi Geothermal Power Plant B</td>\n",
       "      <td>06/15/2019</td>\n",
       "      <td>DEREGISTERED</td>\n",
       "    </tr>\n",
       "    <tr>\n",
       "      <th>64</th>\n",
       "      <td>AP Renewables Inc.</td>\n",
       "      <td>APRI</td>\n",
       "      <td>LUZON</td>\n",
       "      <td>GENERATOR</td>\n",
       "      <td>DIRECT</td>\n",
       "      <td>Makban Geothermal Power Plant E</td>\n",
       "      <td>05/26/2009</td>\n",
       "      <td>REGISTERED</td>\n",
       "    </tr>\n",
       "    <tr>\n",
       "      <th>65</th>\n",
       "      <td>AP Renewables Inc.</td>\n",
       "      <td>APRI</td>\n",
       "      <td>LUZON</td>\n",
       "      <td>GENERATOR</td>\n",
       "      <td>DIRECT</td>\n",
       "      <td>Tiwi Geothermal Power Plant C</td>\n",
       "      <td>05/26/2009</td>\n",
       "      <td>REGISTERED</td>\n",
       "    </tr>\n",
       "    <tr>\n",
       "      <th>395</th>\n",
       "      <td>AP Renewables Inc.</td>\n",
       "      <td>APRI</td>\n",
       "      <td>LUZON</td>\n",
       "      <td>GENERATOR</td>\n",
       "      <td>DIRECT</td>\n",
       "      <td>Makban Geothermal Power Plant B</td>\n",
       "      <td>06/15/2019</td>\n",
       "      <td>REGISTERED</td>\n",
       "    </tr>\n",
       "  </tbody>\n",
       "</table>\n",
       "</div>"
      ],
      "text/plain": [
       "       PARTICIPANT NAME SHORT NAME REGION   CATEGORY MEMBERSHIP  \\\n",
       "57   AP Renewables Inc.       APRI  LUZON  GENERATOR     DIRECT   \n",
       "58   AP Renewables Inc.       APRI  LUZON  GENERATOR     DIRECT   \n",
       "59   AP Renewables Inc.       APRI  LUZON  GENERATOR     DIRECT   \n",
       "60   AP Renewables Inc.       APRI  LUZON  GENERATOR     DIRECT   \n",
       "61   AP Renewables Inc.       APRI  LUZON  GENERATOR     DIRECT   \n",
       "62   AP Renewables Inc.       APRI  LUZON  GENERATOR     DIRECT   \n",
       "63   AP Renewables Inc.       APRI  LUZON  GENERATOR     DIRECT   \n",
       "64   AP Renewables Inc.       APRI  LUZON  GENERATOR     DIRECT   \n",
       "65   AP Renewables Inc.       APRI  LUZON  GENERATOR     DIRECT   \n",
       "395  AP Renewables Inc.       APRI  LUZON  GENERATOR     DIRECT   \n",
       "\n",
       "                                       RESOURCE EFFECTIVE DATE        STATUS  \n",
       "57                  Tiwi Geothermal Power Plant     05/26/2009    REGISTERED  \n",
       "58              Makban Geothermal Power Plant A     05/26/2009    REGISTERED  \n",
       "59              Makban Geothermal Power Plant D     05/26/2009    REGISTERED  \n",
       "60              Makban Geothermal Power Plant C     05/26/2009    REGISTERED  \n",
       "61   Ormat-Makban Binary Geothermal Power Plant     05/26/2009    REGISTERED  \n",
       "62                Tiwi Geothermal Power Plant A     05/26/2009    REGISTERED  \n",
       "63                Tiwi Geothermal Power Plant B     06/15/2019  DEREGISTERED  \n",
       "64              Makban Geothermal Power Plant E     05/26/2009    REGISTERED  \n",
       "65                Tiwi Geothermal Power Plant C     05/26/2009    REGISTERED  \n",
       "395             Makban Geothermal Power Plant B     06/15/2019    REGISTERED  "
      ]
     },
     "execution_count": 18,
     "metadata": {},
     "output_type": "execute_result"
    }
   ],
   "source": [
    "df_wesm[df_wesm['SHORT NAME'] =='APRI']"
   ]
  },
  {
   "cell_type": "code",
   "execution_count": 19,
   "metadata": {},
   "outputs": [
    {
     "data": {
      "text/html": [
       "<div>\n",
       "<style scoped>\n",
       "    .dataframe tbody tr th:only-of-type {\n",
       "        vertical-align: middle;\n",
       "    }\n",
       "\n",
       "    .dataframe tbody tr th {\n",
       "        vertical-align: top;\n",
       "    }\n",
       "\n",
       "    .dataframe thead th {\n",
       "        text-align: right;\n",
       "    }\n",
       "</style>\n",
       "<table border=\"1\" class=\"dataframe\">\n",
       "  <thead>\n",
       "    <tr style=\"text-align: right;\">\n",
       "      <th></th>\n",
       "      <th>PARTICIPANT NAME</th>\n",
       "      <th>SHORT NAME</th>\n",
       "      <th>REGION</th>\n",
       "      <th>CATEGORY</th>\n",
       "      <th>MEMBERSHIP</th>\n",
       "      <th>RESOURCE</th>\n",
       "      <th>EFFECTIVE DATE</th>\n",
       "      <th>STATUS</th>\n",
       "    </tr>\n",
       "  </thead>\n",
       "  <tbody>\n",
       "    <tr>\n",
       "      <th>268</th>\n",
       "      <td>Angat Hydropower Corporation</td>\n",
       "      <td>AHC</td>\n",
       "      <td>LUZON</td>\n",
       "      <td>GENERATOR</td>\n",
       "      <td>DIRECT</td>\n",
       "      <td>Angat Hydro Electric Power Plant Unit A</td>\n",
       "      <td>10/31/2014</td>\n",
       "      <td>REGISTERED</td>\n",
       "    </tr>\n",
       "    <tr>\n",
       "      <th>269</th>\n",
       "      <td>Angat Hydropower Corporation</td>\n",
       "      <td>AHC</td>\n",
       "      <td>LUZON</td>\n",
       "      <td>GENERATOR</td>\n",
       "      <td>DIRECT</td>\n",
       "      <td>Angat Hydro Electric Power Plant Unit M</td>\n",
       "      <td>10/31/2014</td>\n",
       "      <td>REGISTERED</td>\n",
       "    </tr>\n",
       "  </tbody>\n",
       "</table>\n",
       "</div>"
      ],
      "text/plain": [
       "                 PARTICIPANT NAME SHORT NAME REGION   CATEGORY MEMBERSHIP  \\\n",
       "268  Angat Hydropower Corporation        AHC  LUZON  GENERATOR     DIRECT   \n",
       "269  Angat Hydropower Corporation        AHC  LUZON  GENERATOR     DIRECT   \n",
       "\n",
       "                                    RESOURCE EFFECTIVE DATE      STATUS  \n",
       "268  Angat Hydro Electric Power Plant Unit A     10/31/2014  REGISTERED  \n",
       "269  Angat Hydro Electric Power Plant Unit M     10/31/2014  REGISTERED  "
      ]
     },
     "execution_count": 19,
     "metadata": {},
     "output_type": "execute_result"
    }
   ],
   "source": [
    "df_wesm[df_wesm['SHORT NAME'] =='AHC']"
   ]
  },
  {
   "cell_type": "markdown",
   "metadata": {},
   "source": [
    "We can see that each `PARTICIPANT NAME` has multiple `RESOURCE` entries. From the inspected data above, we can infer that membership in the spot market is a disaggregation of the power plant units of each participating company."
   ]
  },
  {
   "cell_type": "markdown",
   "metadata": {},
   "source": [
    "#### Region\n",
    "\n",
    "We look at the `REGION` variable and see that most of the participants are from Luzon."
   ]
  },
  {
   "cell_type": "code",
   "execution_count": 9,
   "metadata": {
    "scrolled": true
   },
   "outputs": [
    {
     "data": {
      "text/plain": [
       "REGION\n",
       "LUZON              267\n",
       "LUZON / VISAYAS      9\n",
       "MINDANAO            33\n",
       "VISAYAS            128\n",
       "Name: RESOURCE, dtype: int64"
      ]
     },
     "execution_count": 9,
     "metadata": {},
     "output_type": "execute_result"
    }
   ],
   "source": [
    "df_wesm.groupby('REGION')['RESOURCE'].nunique()\n"
   ]
  },
  {
   "cell_type": "markdown",
   "metadata": {},
   "source": [
    "We look at the participants with dual regions."
   ]
  },
  {
   "cell_type": "code",
   "execution_count": 20,
   "metadata": {},
   "outputs": [
    {
     "data": {
      "text/html": [
       "<div>\n",
       "<style scoped>\n",
       "    .dataframe tbody tr th:only-of-type {\n",
       "        vertical-align: middle;\n",
       "    }\n",
       "\n",
       "    .dataframe tbody tr th {\n",
       "        vertical-align: top;\n",
       "    }\n",
       "\n",
       "    .dataframe thead th {\n",
       "        text-align: right;\n",
       "    }\n",
       "</style>\n",
       "<table border=\"1\" class=\"dataframe\">\n",
       "  <thead>\n",
       "    <tr style=\"text-align: right;\">\n",
       "      <th></th>\n",
       "      <th>PARTICIPANT NAME</th>\n",
       "      <th>SHORT NAME</th>\n",
       "      <th>REGION</th>\n",
       "      <th>CATEGORY</th>\n",
       "      <th>MEMBERSHIP</th>\n",
       "      <th>RESOURCE</th>\n",
       "      <th>EFFECTIVE DATE</th>\n",
       "      <th>STATUS</th>\n",
       "    </tr>\n",
       "  </thead>\n",
       "  <tbody>\n",
       "    <tr>\n",
       "      <th>42</th>\n",
       "      <td>Aboitiz Energy Solution Inc.</td>\n",
       "      <td>AESI</td>\n",
       "      <td>LUZON / VISAYAS</td>\n",
       "      <td>WAG</td>\n",
       "      <td>DIRECT</td>\n",
       "      <td>Aboitiz Energy Solution Inc.</td>\n",
       "      <td>02/26/2016</td>\n",
       "      <td>CEASED</td>\n",
       "    </tr>\n",
       "    <tr>\n",
       "      <th>44</th>\n",
       "      <td>Team (Philippines) Energy Corporation</td>\n",
       "      <td>TPEC</td>\n",
       "      <td>LUZON / VISAYAS</td>\n",
       "      <td>WAG</td>\n",
       "      <td>DIRECT</td>\n",
       "      <td>Team (Philippines) Energy Corporation</td>\n",
       "      <td>03/26/2018</td>\n",
       "      <td>CEASED</td>\n",
       "    </tr>\n",
       "    <tr>\n",
       "      <th>45</th>\n",
       "      <td>AES Philippines Inc.</td>\n",
       "      <td>AESPI</td>\n",
       "      <td>LUZON / VISAYAS</td>\n",
       "      <td>WAG</td>\n",
       "      <td>DIRECT</td>\n",
       "      <td>AES Philippines Inc.</td>\n",
       "      <td>03/26/2016</td>\n",
       "      <td>CEASED</td>\n",
       "    </tr>\n",
       "    <tr>\n",
       "      <th>91</th>\n",
       "      <td>First Gen Energy Solutions</td>\n",
       "      <td>FGES</td>\n",
       "      <td>LUZON / VISAYAS</td>\n",
       "      <td>WAG</td>\n",
       "      <td>DIRECT</td>\n",
       "      <td>First Gen Energy Solutions</td>\n",
       "      <td>09/06/2020</td>\n",
       "      <td>CEASED</td>\n",
       "    </tr>\n",
       "    <tr>\n",
       "      <th>263</th>\n",
       "      <td>National Grid Corporation of the Philippines</td>\n",
       "      <td>NGCP</td>\n",
       "      <td>LUZON / VISAYAS</td>\n",
       "      <td>BULK USER</td>\n",
       "      <td>DIRECT</td>\n",
       "      <td>National Grid Corporation of the Philippines</td>\n",
       "      <td>07/29/2014</td>\n",
       "      <td>REGISTERED</td>\n",
       "    </tr>\n",
       "    <tr>\n",
       "      <th>358</th>\n",
       "      <td>National Power Corporation</td>\n",
       "      <td>NPC</td>\n",
       "      <td>LUZON / VISAYAS</td>\n",
       "      <td>GENERATOR</td>\n",
       "      <td>DIRECT</td>\n",
       "      <td>Power Barges</td>\n",
       "      <td>09/25/2016</td>\n",
       "      <td>CEASED</td>\n",
       "    </tr>\n",
       "    <tr>\n",
       "      <th>428</th>\n",
       "      <td>Manta Energy Inc.</td>\n",
       "      <td>MEI</td>\n",
       "      <td>LUZON / VISAYAS</td>\n",
       "      <td>WAG</td>\n",
       "      <td>DIRECT</td>\n",
       "      <td>Manta Energy Inc.</td>\n",
       "      <td>01/26/2020</td>\n",
       "      <td>CEASED</td>\n",
       "    </tr>\n",
       "    <tr>\n",
       "      <th>429</th>\n",
       "      <td>Trans-Asia Oil and Development Corporation</td>\n",
       "      <td>TAO</td>\n",
       "      <td>LUZON / VISAYAS</td>\n",
       "      <td>WAG</td>\n",
       "      <td>DIRECT</td>\n",
       "      <td>Trans-Asia Oil and Development Corporation</td>\n",
       "      <td>01/26/2020</td>\n",
       "      <td>CEASED</td>\n",
       "    </tr>\n",
       "    <tr>\n",
       "      <th>431</th>\n",
       "      <td>Angeles Power Inc.</td>\n",
       "      <td>API</td>\n",
       "      <td>LUZON / VISAYAS</td>\n",
       "      <td>WAG</td>\n",
       "      <td>DIRECT</td>\n",
       "      <td>Angeles Power Inc.</td>\n",
       "      <td>02/26/2020</td>\n",
       "      <td>CEASED</td>\n",
       "    </tr>\n",
       "  </tbody>\n",
       "</table>\n",
       "</div>"
      ],
      "text/plain": [
       "                                 PARTICIPANT NAME SHORT NAME           REGION  \\\n",
       "42                   Aboitiz Energy Solution Inc.       AESI  LUZON / VISAYAS   \n",
       "44          Team (Philippines) Energy Corporation       TPEC  LUZON / VISAYAS   \n",
       "45                           AES Philippines Inc.      AESPI  LUZON / VISAYAS   \n",
       "91                     First Gen Energy Solutions       FGES  LUZON / VISAYAS   \n",
       "263  National Grid Corporation of the Philippines       NGCP  LUZON / VISAYAS   \n",
       "358                    National Power Corporation        NPC  LUZON / VISAYAS   \n",
       "428                             Manta Energy Inc.        MEI  LUZON / VISAYAS   \n",
       "429    Trans-Asia Oil and Development Corporation        TAO  LUZON / VISAYAS   \n",
       "431                            Angeles Power Inc.        API  LUZON / VISAYAS   \n",
       "\n",
       "      CATEGORY MEMBERSHIP                                      RESOURCE  \\\n",
       "42         WAG     DIRECT                  Aboitiz Energy Solution Inc.   \n",
       "44         WAG     DIRECT         Team (Philippines) Energy Corporation   \n",
       "45         WAG     DIRECT                          AES Philippines Inc.   \n",
       "91         WAG     DIRECT                    First Gen Energy Solutions   \n",
       "263  BULK USER     DIRECT  National Grid Corporation of the Philippines   \n",
       "358  GENERATOR     DIRECT                                  Power Barges   \n",
       "428        WAG     DIRECT                             Manta Energy Inc.   \n",
       "429        WAG     DIRECT    Trans-Asia Oil and Development Corporation   \n",
       "431        WAG     DIRECT                            Angeles Power Inc.   \n",
       "\n",
       "    EFFECTIVE DATE      STATUS  \n",
       "42      02/26/2016      CEASED  \n",
       "44      03/26/2018      CEASED  \n",
       "45      03/26/2016      CEASED  \n",
       "91      09/06/2020      CEASED  \n",
       "263     07/29/2014  REGISTERED  \n",
       "358     09/25/2016      CEASED  \n",
       "428     01/26/2020      CEASED  \n",
       "429     01/26/2020      CEASED  \n",
       "431     02/26/2020      CEASED  "
      ]
     },
     "execution_count": 20,
     "metadata": {},
     "output_type": "execute_result"
    }
   ],
   "source": [
    "df_wesm[df_wesm['REGION'] =='LUZON / VISAYAS']"
   ]
  },
  {
   "cell_type": "markdown",
   "metadata": {},
   "source": [
    "Except for the NGCP, which is a transmission company and NPC, all the participants with dual regions are Aggregators (WAG) with 'ceased' status. ERC has issued a circular to stop the operation of all WAGs."
   ]
  },
  {
   "cell_type": "markdown",
   "metadata": {},
   "source": [
    "#### Category\n",
    "\n",
    "Just like any market, we can see that WESM participants are either buyers or sellers of electricity."
   ]
  },
  {
   "cell_type": "code",
   "execution_count": 10,
   "metadata": {},
   "outputs": [
    {
     "data": {
      "text/plain": [
       "array(['GENERATOR', 'PRIVATE DISTRIBUTION UTILITY',\n",
       "       'ELECTRIC COOPERATIVE', 'BULK USER', 'WAG'], dtype=object)"
      ]
     },
     "execution_count": 10,
     "metadata": {},
     "output_type": "execute_result"
    }
   ],
   "source": [
    "df_wesm['CATEGORY'].unique()"
   ]
  },
  {
   "cell_type": "markdown",
   "metadata": {},
   "source": [
    "#### Membership\n",
    "\n",
    "Participants have either `DIRECT` or `INDIRECT` membership, which pertains to their grid connection status."
   ]
  },
  {
   "cell_type": "code",
   "execution_count": 21,
   "metadata": {},
   "outputs": [
    {
     "data": {
      "text/plain": [
       "array(['DIRECT', 'INDIRECT'], dtype=object)"
      ]
     },
     "execution_count": 21,
     "metadata": {},
     "output_type": "execute_result"
    }
   ],
   "source": [
    "df_wesm['MEMBERSHIP'].unique()"
   ]
  },
  {
   "cell_type": "markdown",
   "metadata": {},
   "source": [
    "#### Effective Date\n",
    "\n",
    "Date when they participated in the market. We convert the data type."
   ]
  },
  {
   "cell_type": "code",
   "execution_count": 97,
   "metadata": {
    "scrolled": true
   },
   "outputs": [],
   "source": [
    "df_wesm = df_wesm.astype({'EFFECTIVE DATE': 'datetime64'})\n"
   ]
  },
  {
   "cell_type": "code",
   "execution_count": 98,
   "metadata": {
    "scrolled": true
   },
   "outputs": [],
   "source": [
    "g1 = df_wesm.groupby(['REGION', 'CATEGORY', 'EFFECTIVE DATE', 'STATUS']).count().reset_index()\n",
    "g1 = g1[g1['REGION']!='LUZON / VISAYAS']"
   ]
  },
  {
   "cell_type": "markdown",
   "metadata": {},
   "source": [
    "#### Visualisations"
   ]
  },
  {
   "cell_type": "code",
   "execution_count": 99,
   "metadata": {
    "scrolled": true
   },
   "outputs": [
    {
     "data": {
      "application/vnd.plotly.v1+json": {
       "config": {
        "plotlyServerURL": "https://plot.ly"
       },
       "data": [
        {
         "hovertemplate": "CATEGORY=BULK USER<br>REGION=LUZON<br>EFFECTIVE DATE=%{x}<br>RESOURCE=%{y}<extra></extra>",
         "legendgroup": "BULK USER",
         "marker": {
          "color": "#636efa",
          "symbol": "circle"
         },
         "mode": "markers",
         "name": "BULK USER",
         "orientation": "v",
         "showlegend": true,
         "type": "scatter",
         "x": [
          "2007-03-12T00:00:00",
          "2010-09-20T00:00:00",
          "2010-09-26T00:00:00",
          "2010-10-15T00:00:00",
          "2010-10-26T00:00:00",
          "2010-11-08T00:00:00",
          "2010-11-15T00:00:00",
          "2011-02-14T00:00:00",
          "2011-02-26T00:00:00",
          "2011-03-15T00:00:00",
          "2011-03-21T00:00:00",
          "2011-08-04T00:00:00",
          "2011-08-09T00:00:00",
          "2011-10-14T00:00:00",
          "2011-11-26T00:00:00",
          "2011-12-26T00:00:00",
          "2012-03-26T00:00:00",
          "2012-07-26T00:00:00",
          "2013-09-26T00:00:00",
          "2014-06-05T00:00:00",
          "2014-06-21T00:00:00",
          "2014-07-18T00:00:00",
          "2014-07-25T00:00:00",
          "2014-07-31T00:00:00",
          "2015-01-30T00:00:00",
          "2015-02-12T00:00:00",
          "2015-04-18T00:00:00",
          "2015-07-26T00:00:00",
          "2016-03-17T00:00:00",
          "2019-07-26T00:00:00",
          "2020-08-09T00:00:00",
          "2020-08-11T00:00:00",
          "2020-08-13T00:00:00",
          "2020-09-06T00:00:00",
          "2020-10-03T00:00:00"
         ],
         "xaxis": "x3",
         "y": [
          1,
          1,
          2,
          3,
          3,
          1,
          4,
          1,
          1,
          1,
          1,
          1,
          1,
          1,
          2,
          2,
          1,
          1,
          1,
          1,
          1,
          1,
          1,
          1,
          1,
          1,
          1,
          1,
          1,
          1,
          1,
          1,
          1,
          1,
          1
         ],
         "yaxis": "y3"
        },
        {
         "hovertemplate": "CATEGORY=BULK USER<br>REGION=VISAYAS<br>EFFECTIVE DATE=%{x}<br>RESOURCE=%{y}<extra></extra>",
         "legendgroup": "BULK USER",
         "marker": {
          "color": "#636efa",
          "symbol": "circle"
         },
         "mode": "markers",
         "name": "BULK USER",
         "orientation": "v",
         "showlegend": false,
         "type": "scatter",
         "x": [
          "2010-12-26T00:00:00",
          "2010-12-26T00:00:00",
          "2011-12-26T00:00:00",
          "2012-03-26T00:00:00",
          "2013-03-14T00:00:00",
          "2013-09-14T00:00:00",
          "2017-04-26T00:00:00"
         ],
         "xaxis": "x",
         "y": [
          1,
          12,
          1,
          1,
          1,
          1,
          1
         ],
         "yaxis": "y"
        },
        {
         "hovertemplate": "CATEGORY=ELECTRIC COOPERATIVE<br>REGION=LUZON<br>EFFECTIVE DATE=%{x}<br>RESOURCE=%{y}<extra></extra>",
         "legendgroup": "ELECTRIC COOPERATIVE",
         "marker": {
          "color": "#EF553B",
          "symbol": "circle"
         },
         "mode": "markers",
         "name": "ELECTRIC COOPERATIVE",
         "orientation": "v",
         "showlegend": true,
         "type": "scatter",
         "x": [
          "2006-09-22T00:00:00",
          "2006-10-04T00:00:00",
          "2006-10-31T00:00:00",
          "2006-11-26T00:00:00",
          "2006-12-06T00:00:00",
          "2007-08-26T00:00:00",
          "2008-04-26T00:00:00",
          "2008-05-26T00:00:00",
          "2008-06-26T00:00:00",
          "2009-03-26T00:00:00",
          "2009-07-26T00:00:00",
          "2009-08-26T00:00:00",
          "2009-11-26T00:00:00",
          "2009-12-26T00:00:00",
          "2010-03-05T00:00:00",
          "2010-05-26T00:00:00",
          "2010-06-25T00:00:00",
          "2010-07-26T00:00:00",
          "2010-08-26T00:00:00",
          "2010-09-20T00:00:00",
          "2010-10-15T00:00:00",
          "2010-10-26T00:00:00",
          "2010-11-26T00:00:00",
          "2010-12-26T00:00:00",
          "2011-08-04T00:00:00",
          "2011-08-26T00:00:00",
          "2011-09-26T00:00:00",
          "2011-10-14T00:00:00",
          "2011-11-26T00:00:00",
          "2011-12-26T00:00:00",
          "2012-09-26T00:00:00",
          "2013-08-23T00:00:00",
          "2015-03-02T00:00:00"
         ],
         "xaxis": "x3",
         "y": [
          1,
          1,
          1,
          1,
          1,
          1,
          1,
          1,
          1,
          1,
          1,
          1,
          1,
          2,
          1,
          1,
          1,
          2,
          2,
          1,
          1,
          1,
          4,
          1,
          1,
          1,
          1,
          1,
          3,
          2,
          2,
          1,
          1
         ],
         "yaxis": "y3"
        },
        {
         "hovertemplate": "CATEGORY=ELECTRIC COOPERATIVE<br>REGION=VISAYAS<br>EFFECTIVE DATE=%{x}<br>RESOURCE=%{y}<extra></extra>",
         "legendgroup": "ELECTRIC COOPERATIVE",
         "marker": {
          "color": "#EF553B",
          "symbol": "circle"
         },
         "mode": "markers",
         "name": "ELECTRIC COOPERATIVE",
         "orientation": "v",
         "showlegend": false,
         "type": "scatter",
         "x": [
          "2010-12-26T00:00:00",
          "2011-04-26T00:00:00",
          "2012-03-26T00:00:00",
          "2012-09-21T00:00:00",
          "2014-03-04T00:00:00",
          "2014-12-17T00:00:00",
          "2015-02-26T00:00:00"
         ],
         "xaxis": "x",
         "y": [
          22,
          1,
          1,
          1,
          1,
          1,
          1
         ],
         "yaxis": "y"
        },
        {
         "hovertemplate": "CATEGORY=GENERATOR<br>REGION=LUZON<br>EFFECTIVE DATE=%{x}<br>RESOURCE=%{y}<extra></extra>",
         "legendgroup": "GENERATOR",
         "marker": {
          "color": "#00cc96",
          "symbol": "circle"
         },
         "mode": "markers",
         "name": "GENERATOR",
         "orientation": "v",
         "showlegend": true,
         "type": "scatter",
         "x": [
          "2006-06-26T00:00:00",
          "2006-06-26T00:00:00",
          "2006-11-18T00:00:00",
          "2006-11-26T00:00:00",
          "2007-01-05T00:00:00",
          "2007-04-26T00:00:00",
          "2008-04-17T00:00:00",
          "2008-07-11T00:00:00",
          "2008-10-26T00:00:00",
          "2009-05-26T00:00:00",
          "2009-10-01T00:00:00",
          "2009-11-06T00:00:00",
          "2009-12-04T00:00:00",
          "2010-01-19T00:00:00",
          "2010-01-26T00:00:00",
          "2010-06-26T00:00:00",
          "2010-08-26T00:00:00",
          "2010-09-06T00:00:00",
          "2010-09-13T00:00:00",
          "2011-02-26T00:00:00",
          "2011-05-26T00:00:00",
          "2011-06-01T00:00:00",
          "2012-03-26T00:00:00",
          "2012-07-26T00:00:00",
          "2012-08-07T00:00:00",
          "2012-12-06T00:00:00",
          "2013-01-17T00:00:00",
          "2013-03-13T00:00:00",
          "2013-11-04T00:00:00",
          "2014-05-24T00:00:00",
          "2014-06-09T00:00:00",
          "2014-08-28T00:00:00",
          "2014-10-31T00:00:00",
          "2014-11-01T00:00:00",
          "2014-11-04T00:00:00",
          "2014-11-06T00:00:00",
          "2015-01-06T00:00:00",
          "2015-01-22T00:00:00",
          "2015-04-16T00:00:00",
          "2015-04-23T00:00:00",
          "2015-04-24T00:00:00",
          "2015-05-06T00:00:00",
          "2015-08-11T00:00:00",
          "2015-08-13T00:00:00",
          "2015-08-14T00:00:00",
          "2015-08-17T00:00:00",
          "2015-08-27T00:00:00",
          "2015-10-09T00:00:00",
          "2015-12-17T00:00:00",
          "2015-12-17T00:00:00",
          "2016-01-20T00:00:00",
          "2016-01-22T00:00:00",
          "2016-02-20T00:00:00",
          "2016-02-22T00:00:00",
          "2016-02-23T00:00:00",
          "2016-03-02T00:00:00",
          "2016-03-03T00:00:00",
          "2016-03-09T00:00:00",
          "2016-03-10T00:00:00",
          "2016-03-11T00:00:00",
          "2016-03-14T00:00:00",
          "2016-03-15T00:00:00",
          "2016-04-01T00:00:00",
          "2016-04-08T00:00:00",
          "2016-04-15T00:00:00",
          "2016-04-21T00:00:00",
          "2016-06-22T00:00:00",
          "2016-07-02T00:00:00",
          "2016-08-20T00:00:00",
          "2016-09-07T00:00:00",
          "2016-11-04T00:00:00",
          "2016-11-11T00:00:00",
          "2016-12-02T00:00:00",
          "2017-03-14T00:00:00",
          "2017-07-27T00:00:00",
          "2017-09-08T00:00:00",
          "2017-10-14T00:00:00",
          "2017-11-09T00:00:00",
          "2017-12-08T00:00:00",
          "2017-12-30T00:00:00",
          "2018-01-05T00:00:00",
          "2018-01-31T00:00:00",
          "2018-09-12T00:00:00",
          "2019-03-14T00:00:00",
          "2019-04-13T00:00:00",
          "2019-04-22T00:00:00",
          "2019-04-25T00:00:00",
          "2019-06-01T00:00:00",
          "2019-06-15T00:00:00",
          "2019-06-15T00:00:00",
          "2019-07-16T00:00:00",
          "2019-08-08T00:00:00",
          "2019-09-21T00:00:00",
          "2019-11-15T00:00:00",
          "2019-12-07T00:00:00",
          "2019-12-14T00:00:00",
          "2020-02-26T00:00:00",
          "2020-03-18T00:00:00",
          "2020-03-20T00:00:00",
          "2020-05-30T00:00:00",
          "2020-08-22T00:00:00",
          "2020-09-09T00:00:00"
         ],
         "xaxis": "x3",
         "y": [
          1,
          16,
          3,
          1,
          1,
          4,
          2,
          4,
          1,
          8,
          2,
          2,
          2,
          8,
          3,
          2,
          1,
          1,
          1,
          1,
          2,
          3,
          1,
          1,
          1,
          1,
          1,
          1,
          1,
          1,
          2,
          1,
          2,
          1,
          1,
          1,
          1,
          1,
          1,
          2,
          1,
          1,
          2,
          2,
          1,
          1,
          1,
          1,
          1,
          2,
          3,
          1,
          1,
          1,
          1,
          1,
          1,
          1,
          4,
          1,
          2,
          4,
          1,
          2,
          1,
          1,
          1,
          1,
          1,
          1,
          1,
          2,
          1,
          2,
          2,
          1,
          2,
          1,
          1,
          1,
          0,
          1,
          1,
          1,
          1,
          2,
          1,
          1,
          1,
          1,
          1,
          1,
          1,
          1,
          2,
          2,
          1,
          1,
          1,
          3,
          1,
          1
         ],
         "yaxis": "y3"
        },
        {
         "hovertemplate": "CATEGORY=GENERATOR<br>REGION=MINDANAO<br>EFFECTIVE DATE=%{x}<br>RESOURCE=%{y}<extra></extra>",
         "legendgroup": "GENERATOR",
         "marker": {
          "color": "#00cc96",
          "symbol": "circle"
         },
         "mode": "markers",
         "name": "GENERATOR",
         "orientation": "v",
         "showlegend": false,
         "type": "scatter",
         "x": [
          "2019-08-01T00:00:00",
          "2019-09-02T00:00:00",
          "2019-09-24T00:00:00",
          "2019-09-30T00:00:00",
          "2019-12-12T00:00:00",
          "2019-12-28T00:00:00",
          "2020-01-08T00:00:00",
          "2020-03-14T00:00:00",
          "2020-03-27T00:00:00",
          "2020-04-08T00:00:00",
          "2020-04-17T00:00:00",
          "2020-04-23T00:00:00",
          "2020-04-25T00:00:00",
          "2020-04-28T00:00:00",
          "2020-05-24T00:00:00",
          "2020-05-29T00:00:00",
          "2020-06-03T00:00:00",
          "2020-06-06T00:00:00",
          "2020-08-07T00:00:00",
          "2020-10-03T00:00:00"
         ],
         "xaxis": "x2",
         "y": [
          2,
          2,
          2,
          1,
          2,
          2,
          4,
          2,
          1,
          2,
          2,
          1,
          1,
          1,
          1,
          1,
          2,
          1,
          2,
          1
         ],
         "yaxis": "y2"
        },
        {
         "hovertemplate": "CATEGORY=GENERATOR<br>REGION=VISAYAS<br>EFFECTIVE DATE=%{x}<br>RESOURCE=%{y}<extra></extra>",
         "legendgroup": "GENERATOR",
         "marker": {
          "color": "#00cc96",
          "symbol": "circle"
         },
         "mode": "markers",
         "name": "GENERATOR",
         "orientation": "v",
         "showlegend": false,
         "type": "scatter",
         "x": [
          "2010-12-26T00:00:00",
          "2011-01-24T00:00:00",
          "2011-02-26T00:00:00",
          "2011-02-28T00:00:00",
          "2011-03-26T00:00:00",
          "2011-03-26T00:00:00",
          "2011-05-31T00:00:00",
          "2012-02-26T00:00:00",
          "2014-04-12T00:00:00",
          "2014-05-29T00:00:00",
          "2014-06-14T00:00:00",
          "2014-08-16T00:00:00",
          "2014-10-31T00:00:00",
          "2014-12-18T00:00:00",
          "2015-01-06T00:00:00",
          "2015-01-29T00:00:00",
          "2015-03-24T00:00:00",
          "2015-05-24T00:00:00",
          "2015-09-12T00:00:00",
          "2015-11-16T00:00:00",
          "2016-01-04T00:00:00",
          "2016-01-26T00:00:00",
          "2016-02-24T00:00:00",
          "2016-02-29T00:00:00",
          "2016-03-01T00:00:00",
          "2016-03-04T00:00:00",
          "2016-03-08T00:00:00",
          "2016-03-15T00:00:00",
          "2016-03-23T00:00:00",
          "2016-05-25T00:00:00",
          "2016-06-29T00:00:00",
          "2016-08-19T00:00:00",
          "2017-02-01T00:00:00",
          "2017-06-09T00:00:00",
          "2017-11-14T00:00:00",
          "2017-11-24T00:00:00",
          "2017-12-23T00:00:00",
          "2018-05-12T00:00:00",
          "2018-07-13T00:00:00",
          "2018-12-21T00:00:00",
          "2019-01-22T00:00:00",
          "2019-05-04T00:00:00",
          "2019-05-14T00:00:00",
          "2019-07-27T00:00:00",
          "2019-09-12T00:00:00",
          "2019-10-29T00:00:00",
          "2019-11-09T00:00:00",
          "2019-12-07T00:00:00",
          "2019-12-23T00:00:00",
          "2019-12-24T00:00:00",
          "2020-04-14T00:00:00"
         ],
         "xaxis": "x",
         "y": [
          20,
          2,
          1,
          1,
          1,
          1,
          1,
          1,
          1,
          1,
          2,
          1,
          1,
          1,
          1,
          1,
          1,
          2,
          1,
          1,
          2,
          2,
          1,
          1,
          1,
          2,
          2,
          1,
          2,
          1,
          1,
          1,
          1,
          1,
          1,
          1,
          2,
          1,
          1,
          1,
          1,
          1,
          1,
          1,
          1,
          1,
          1,
          1,
          1,
          1,
          1
         ],
         "yaxis": "y"
        },
        {
         "hovertemplate": "CATEGORY=PRIVATE DISTRIBUTION UTILITY<br>REGION=LUZON<br>EFFECTIVE DATE=%{x}<br>RESOURCE=%{y}<extra></extra>",
         "legendgroup": "PRIVATE DISTRIBUTION UTILITY",
         "marker": {
          "color": "#ab63fa",
          "symbol": "circle"
         },
         "mode": "markers",
         "name": "PRIVATE DISTRIBUTION UTILITY",
         "orientation": "v",
         "showlegend": true,
         "type": "scatter",
         "x": [
          "2006-06-26T00:00:00",
          "2009-09-25T00:00:00",
          "2009-11-26T00:00:00",
          "2010-01-26T00:00:00",
          "2010-10-26T00:00:00",
          "2011-11-07T00:00:00",
          "2013-05-16T00:00:00",
          "2013-08-21T00:00:00",
          "2014-02-11T00:00:00",
          "2014-03-10T00:00:00",
          "2014-11-06T00:00:00",
          "2015-10-01T00:00:00",
          "2016-08-25T00:00:00",
          "2020-07-20T00:00:00"
         ],
         "xaxis": "x3",
         "y": [
          1,
          1,
          1,
          1,
          1,
          1,
          1,
          1,
          1,
          1,
          1,
          1,
          1,
          1
         ],
         "yaxis": "y3"
        },
        {
         "hovertemplate": "CATEGORY=PRIVATE DISTRIBUTION UTILITY<br>REGION=VISAYAS<br>EFFECTIVE DATE=%{x}<br>RESOURCE=%{y}<extra></extra>",
         "legendgroup": "PRIVATE DISTRIBUTION UTILITY",
         "marker": {
          "color": "#ab63fa",
          "symbol": "circle"
         },
         "mode": "markers",
         "name": "PRIVATE DISTRIBUTION UTILITY",
         "orientation": "v",
         "showlegend": false,
         "type": "scatter",
         "x": [
          "2010-12-26T00:00:00",
          "2018-06-23T00:00:00",
          "2020-03-27T00:00:00"
         ],
         "xaxis": "x",
         "y": [
          3,
          1,
          1
         ],
         "yaxis": "y"
        }
       ],
       "layout": {
        "annotations": [
         {
          "font": {},
          "showarrow": false,
          "text": "REGION=VISAYAS",
          "textangle": 90,
          "x": 0.98,
          "xanchor": "left",
          "xref": "paper",
          "y": 0.15666666666666665,
          "yanchor": "middle",
          "yref": "paper"
         },
         {
          "font": {},
          "showarrow": false,
          "text": "REGION=MINDANAO",
          "textangle": 90,
          "x": 0.98,
          "xanchor": "left",
          "xref": "paper",
          "y": 0.4999999999999999,
          "yanchor": "middle",
          "yref": "paper"
         },
         {
          "font": {},
          "showarrow": false,
          "text": "REGION=LUZON",
          "textangle": 90,
          "x": 0.98,
          "xanchor": "left",
          "xref": "paper",
          "y": 0.8433333333333332,
          "yanchor": "middle",
          "yref": "paper"
         }
        ],
        "legend": {
         "title": {
          "text": "CATEGORY"
         },
         "tracegroupgap": 0
        },
        "margin": {
         "t": 60
        },
        "template": {
         "data": {
          "bar": [
           {
            "error_x": {
             "color": "#2a3f5f"
            },
            "error_y": {
             "color": "#2a3f5f"
            },
            "marker": {
             "line": {
              "color": "#E5ECF6",
              "width": 0.5
             }
            },
            "type": "bar"
           }
          ],
          "barpolar": [
           {
            "marker": {
             "line": {
              "color": "#E5ECF6",
              "width": 0.5
             }
            },
            "type": "barpolar"
           }
          ],
          "carpet": [
           {
            "aaxis": {
             "endlinecolor": "#2a3f5f",
             "gridcolor": "white",
             "linecolor": "white",
             "minorgridcolor": "white",
             "startlinecolor": "#2a3f5f"
            },
            "baxis": {
             "endlinecolor": "#2a3f5f",
             "gridcolor": "white",
             "linecolor": "white",
             "minorgridcolor": "white",
             "startlinecolor": "#2a3f5f"
            },
            "type": "carpet"
           }
          ],
          "choropleth": [
           {
            "colorbar": {
             "outlinewidth": 0,
             "ticks": ""
            },
            "type": "choropleth"
           }
          ],
          "contour": [
           {
            "colorbar": {
             "outlinewidth": 0,
             "ticks": ""
            },
            "colorscale": [
             [
              0,
              "#0d0887"
             ],
             [
              0.1111111111111111,
              "#46039f"
             ],
             [
              0.2222222222222222,
              "#7201a8"
             ],
             [
              0.3333333333333333,
              "#9c179e"
             ],
             [
              0.4444444444444444,
              "#bd3786"
             ],
             [
              0.5555555555555556,
              "#d8576b"
             ],
             [
              0.6666666666666666,
              "#ed7953"
             ],
             [
              0.7777777777777778,
              "#fb9f3a"
             ],
             [
              0.8888888888888888,
              "#fdca26"
             ],
             [
              1,
              "#f0f921"
             ]
            ],
            "type": "contour"
           }
          ],
          "contourcarpet": [
           {
            "colorbar": {
             "outlinewidth": 0,
             "ticks": ""
            },
            "type": "contourcarpet"
           }
          ],
          "heatmap": [
           {
            "colorbar": {
             "outlinewidth": 0,
             "ticks": ""
            },
            "colorscale": [
             [
              0,
              "#0d0887"
             ],
             [
              0.1111111111111111,
              "#46039f"
             ],
             [
              0.2222222222222222,
              "#7201a8"
             ],
             [
              0.3333333333333333,
              "#9c179e"
             ],
             [
              0.4444444444444444,
              "#bd3786"
             ],
             [
              0.5555555555555556,
              "#d8576b"
             ],
             [
              0.6666666666666666,
              "#ed7953"
             ],
             [
              0.7777777777777778,
              "#fb9f3a"
             ],
             [
              0.8888888888888888,
              "#fdca26"
             ],
             [
              1,
              "#f0f921"
             ]
            ],
            "type": "heatmap"
           }
          ],
          "heatmapgl": [
           {
            "colorbar": {
             "outlinewidth": 0,
             "ticks": ""
            },
            "colorscale": [
             [
              0,
              "#0d0887"
             ],
             [
              0.1111111111111111,
              "#46039f"
             ],
             [
              0.2222222222222222,
              "#7201a8"
             ],
             [
              0.3333333333333333,
              "#9c179e"
             ],
             [
              0.4444444444444444,
              "#bd3786"
             ],
             [
              0.5555555555555556,
              "#d8576b"
             ],
             [
              0.6666666666666666,
              "#ed7953"
             ],
             [
              0.7777777777777778,
              "#fb9f3a"
             ],
             [
              0.8888888888888888,
              "#fdca26"
             ],
             [
              1,
              "#f0f921"
             ]
            ],
            "type": "heatmapgl"
           }
          ],
          "histogram": [
           {
            "marker": {
             "colorbar": {
              "outlinewidth": 0,
              "ticks": ""
             }
            },
            "type": "histogram"
           }
          ],
          "histogram2d": [
           {
            "colorbar": {
             "outlinewidth": 0,
             "ticks": ""
            },
            "colorscale": [
             [
              0,
              "#0d0887"
             ],
             [
              0.1111111111111111,
              "#46039f"
             ],
             [
              0.2222222222222222,
              "#7201a8"
             ],
             [
              0.3333333333333333,
              "#9c179e"
             ],
             [
              0.4444444444444444,
              "#bd3786"
             ],
             [
              0.5555555555555556,
              "#d8576b"
             ],
             [
              0.6666666666666666,
              "#ed7953"
             ],
             [
              0.7777777777777778,
              "#fb9f3a"
             ],
             [
              0.8888888888888888,
              "#fdca26"
             ],
             [
              1,
              "#f0f921"
             ]
            ],
            "type": "histogram2d"
           }
          ],
          "histogram2dcontour": [
           {
            "colorbar": {
             "outlinewidth": 0,
             "ticks": ""
            },
            "colorscale": [
             [
              0,
              "#0d0887"
             ],
             [
              0.1111111111111111,
              "#46039f"
             ],
             [
              0.2222222222222222,
              "#7201a8"
             ],
             [
              0.3333333333333333,
              "#9c179e"
             ],
             [
              0.4444444444444444,
              "#bd3786"
             ],
             [
              0.5555555555555556,
              "#d8576b"
             ],
             [
              0.6666666666666666,
              "#ed7953"
             ],
             [
              0.7777777777777778,
              "#fb9f3a"
             ],
             [
              0.8888888888888888,
              "#fdca26"
             ],
             [
              1,
              "#f0f921"
             ]
            ],
            "type": "histogram2dcontour"
           }
          ],
          "mesh3d": [
           {
            "colorbar": {
             "outlinewidth": 0,
             "ticks": ""
            },
            "type": "mesh3d"
           }
          ],
          "parcoords": [
           {
            "line": {
             "colorbar": {
              "outlinewidth": 0,
              "ticks": ""
             }
            },
            "type": "parcoords"
           }
          ],
          "pie": [
           {
            "automargin": true,
            "type": "pie"
           }
          ],
          "scatter": [
           {
            "marker": {
             "colorbar": {
              "outlinewidth": 0,
              "ticks": ""
             }
            },
            "type": "scatter"
           }
          ],
          "scatter3d": [
           {
            "line": {
             "colorbar": {
              "outlinewidth": 0,
              "ticks": ""
             }
            },
            "marker": {
             "colorbar": {
              "outlinewidth": 0,
              "ticks": ""
             }
            },
            "type": "scatter3d"
           }
          ],
          "scattercarpet": [
           {
            "marker": {
             "colorbar": {
              "outlinewidth": 0,
              "ticks": ""
             }
            },
            "type": "scattercarpet"
           }
          ],
          "scattergeo": [
           {
            "marker": {
             "colorbar": {
              "outlinewidth": 0,
              "ticks": ""
             }
            },
            "type": "scattergeo"
           }
          ],
          "scattergl": [
           {
            "marker": {
             "colorbar": {
              "outlinewidth": 0,
              "ticks": ""
             }
            },
            "type": "scattergl"
           }
          ],
          "scattermapbox": [
           {
            "marker": {
             "colorbar": {
              "outlinewidth": 0,
              "ticks": ""
             }
            },
            "type": "scattermapbox"
           }
          ],
          "scatterpolar": [
           {
            "marker": {
             "colorbar": {
              "outlinewidth": 0,
              "ticks": ""
             }
            },
            "type": "scatterpolar"
           }
          ],
          "scatterpolargl": [
           {
            "marker": {
             "colorbar": {
              "outlinewidth": 0,
              "ticks": ""
             }
            },
            "type": "scatterpolargl"
           }
          ],
          "scatterternary": [
           {
            "marker": {
             "colorbar": {
              "outlinewidth": 0,
              "ticks": ""
             }
            },
            "type": "scatterternary"
           }
          ],
          "surface": [
           {
            "colorbar": {
             "outlinewidth": 0,
             "ticks": ""
            },
            "colorscale": [
             [
              0,
              "#0d0887"
             ],
             [
              0.1111111111111111,
              "#46039f"
             ],
             [
              0.2222222222222222,
              "#7201a8"
             ],
             [
              0.3333333333333333,
              "#9c179e"
             ],
             [
              0.4444444444444444,
              "#bd3786"
             ],
             [
              0.5555555555555556,
              "#d8576b"
             ],
             [
              0.6666666666666666,
              "#ed7953"
             ],
             [
              0.7777777777777778,
              "#fb9f3a"
             ],
             [
              0.8888888888888888,
              "#fdca26"
             ],
             [
              1,
              "#f0f921"
             ]
            ],
            "type": "surface"
           }
          ],
          "table": [
           {
            "cells": {
             "fill": {
              "color": "#EBF0F8"
             },
             "line": {
              "color": "white"
             }
            },
            "header": {
             "fill": {
              "color": "#C8D4E3"
             },
             "line": {
              "color": "white"
             }
            },
            "type": "table"
           }
          ]
         },
         "layout": {
          "annotationdefaults": {
           "arrowcolor": "#2a3f5f",
           "arrowhead": 0,
           "arrowwidth": 1
          },
          "coloraxis": {
           "colorbar": {
            "outlinewidth": 0,
            "ticks": ""
           }
          },
          "colorscale": {
           "diverging": [
            [
             0,
             "#8e0152"
            ],
            [
             0.1,
             "#c51b7d"
            ],
            [
             0.2,
             "#de77ae"
            ],
            [
             0.3,
             "#f1b6da"
            ],
            [
             0.4,
             "#fde0ef"
            ],
            [
             0.5,
             "#f7f7f7"
            ],
            [
             0.6,
             "#e6f5d0"
            ],
            [
             0.7,
             "#b8e186"
            ],
            [
             0.8,
             "#7fbc41"
            ],
            [
             0.9,
             "#4d9221"
            ],
            [
             1,
             "#276419"
            ]
           ],
           "sequential": [
            [
             0,
             "#0d0887"
            ],
            [
             0.1111111111111111,
             "#46039f"
            ],
            [
             0.2222222222222222,
             "#7201a8"
            ],
            [
             0.3333333333333333,
             "#9c179e"
            ],
            [
             0.4444444444444444,
             "#bd3786"
            ],
            [
             0.5555555555555556,
             "#d8576b"
            ],
            [
             0.6666666666666666,
             "#ed7953"
            ],
            [
             0.7777777777777778,
             "#fb9f3a"
            ],
            [
             0.8888888888888888,
             "#fdca26"
            ],
            [
             1,
             "#f0f921"
            ]
           ],
           "sequentialminus": [
            [
             0,
             "#0d0887"
            ],
            [
             0.1111111111111111,
             "#46039f"
            ],
            [
             0.2222222222222222,
             "#7201a8"
            ],
            [
             0.3333333333333333,
             "#9c179e"
            ],
            [
             0.4444444444444444,
             "#bd3786"
            ],
            [
             0.5555555555555556,
             "#d8576b"
            ],
            [
             0.6666666666666666,
             "#ed7953"
            ],
            [
             0.7777777777777778,
             "#fb9f3a"
            ],
            [
             0.8888888888888888,
             "#fdca26"
            ],
            [
             1,
             "#f0f921"
            ]
           ]
          },
          "colorway": [
           "#636efa",
           "#EF553B",
           "#00cc96",
           "#ab63fa",
           "#FFA15A",
           "#19d3f3",
           "#FF6692",
           "#B6E880",
           "#FF97FF",
           "#FECB52"
          ],
          "font": {
           "color": "#2a3f5f"
          },
          "geo": {
           "bgcolor": "white",
           "lakecolor": "white",
           "landcolor": "#E5ECF6",
           "showlakes": true,
           "showland": true,
           "subunitcolor": "white"
          },
          "hoverlabel": {
           "align": "left"
          },
          "hovermode": "closest",
          "mapbox": {
           "style": "light"
          },
          "paper_bgcolor": "white",
          "plot_bgcolor": "#E5ECF6",
          "polar": {
           "angularaxis": {
            "gridcolor": "white",
            "linecolor": "white",
            "ticks": ""
           },
           "bgcolor": "#E5ECF6",
           "radialaxis": {
            "gridcolor": "white",
            "linecolor": "white",
            "ticks": ""
           }
          },
          "scene": {
           "xaxis": {
            "backgroundcolor": "#E5ECF6",
            "gridcolor": "white",
            "gridwidth": 2,
            "linecolor": "white",
            "showbackground": true,
            "ticks": "",
            "zerolinecolor": "white"
           },
           "yaxis": {
            "backgroundcolor": "#E5ECF6",
            "gridcolor": "white",
            "gridwidth": 2,
            "linecolor": "white",
            "showbackground": true,
            "ticks": "",
            "zerolinecolor": "white"
           },
           "zaxis": {
            "backgroundcolor": "#E5ECF6",
            "gridcolor": "white",
            "gridwidth": 2,
            "linecolor": "white",
            "showbackground": true,
            "ticks": "",
            "zerolinecolor": "white"
           }
          },
          "shapedefaults": {
           "line": {
            "color": "#2a3f5f"
           }
          },
          "ternary": {
           "aaxis": {
            "gridcolor": "white",
            "linecolor": "white",
            "ticks": ""
           },
           "baxis": {
            "gridcolor": "white",
            "linecolor": "white",
            "ticks": ""
           },
           "bgcolor": "#E5ECF6",
           "caxis": {
            "gridcolor": "white",
            "linecolor": "white",
            "ticks": ""
           }
          },
          "title": {
           "x": 0.05
          },
          "xaxis": {
           "automargin": true,
           "gridcolor": "white",
           "linecolor": "white",
           "ticks": "",
           "title": {
            "standoff": 15
           },
           "zerolinecolor": "white",
           "zerolinewidth": 2
          },
          "yaxis": {
           "automargin": true,
           "gridcolor": "white",
           "linecolor": "white",
           "ticks": "",
           "title": {
            "standoff": 15
           },
           "zerolinecolor": "white",
           "zerolinewidth": 2
          }
         }
        },
        "xaxis": {
         "anchor": "y",
         "domain": [
          0,
          0.98
         ],
         "rangeslider": {
          "visible": false
         },
         "title": {
          "text": "EFFECTIVE DATE"
         }
        },
        "xaxis2": {
         "anchor": "y2",
         "domain": [
          0,
          0.98
         ],
         "matches": "x",
         "rangeslider": {
          "visible": false
         },
         "showticklabels": false
        },
        "xaxis3": {
         "anchor": "y3",
         "domain": [
          0,
          0.98
         ],
         "matches": "x",
         "rangeslider": {
          "visible": false
         },
         "showticklabels": false
        },
        "yaxis": {
         "anchor": "x",
         "domain": [
          0,
          0.3133333333333333
         ],
         "range": [
          "0",
          "25"
         ],
         "title": {
          "text": "RESOURCE"
         }
        },
        "yaxis2": {
         "anchor": "x2",
         "domain": [
          0.34333333333333327,
          0.6566666666666665
         ],
         "matches": "y",
         "range": [
          "0",
          "25"
         ],
         "title": {
          "text": "RESOURCE"
         }
        },
        "yaxis3": {
         "anchor": "x3",
         "domain": [
          0.6866666666666665,
          0.9999999999999998
         ],
         "matches": "y",
         "range": [
          "0",
          "25"
         ],
         "title": {
          "text": "RESOURCE"
         }
        }
       }
      },
      "text/html": [
       "<div>                            <div id=\"65edd238-0e5d-4397-8593-1ea1d4678c9c\" class=\"plotly-graph-div\" style=\"height:525px; width:100%;\"></div>            <script type=\"text/javascript\">                require([\"plotly\"], function(Plotly) {                    window.PLOTLYENV=window.PLOTLYENV || {};                                    if (document.getElementById(\"65edd238-0e5d-4397-8593-1ea1d4678c9c\")) {                    Plotly.newPlot(                        \"65edd238-0e5d-4397-8593-1ea1d4678c9c\",                        [{\"hovertemplate\": \"CATEGORY=BULK USER<br>REGION=LUZON<br>EFFECTIVE DATE=%{x}<br>RESOURCE=%{y}<extra></extra>\", \"legendgroup\": \"BULK USER\", \"marker\": {\"color\": \"#636efa\", \"symbol\": \"circle\"}, \"mode\": \"markers\", \"name\": \"BULK USER\", \"orientation\": \"v\", \"showlegend\": true, \"type\": \"scatter\", \"x\": [\"2007-03-12T00:00:00\", \"2010-09-20T00:00:00\", \"2010-09-26T00:00:00\", \"2010-10-15T00:00:00\", \"2010-10-26T00:00:00\", \"2010-11-08T00:00:00\", \"2010-11-15T00:00:00\", \"2011-02-14T00:00:00\", \"2011-02-26T00:00:00\", \"2011-03-15T00:00:00\", \"2011-03-21T00:00:00\", \"2011-08-04T00:00:00\", \"2011-08-09T00:00:00\", \"2011-10-14T00:00:00\", \"2011-11-26T00:00:00\", \"2011-12-26T00:00:00\", \"2012-03-26T00:00:00\", \"2012-07-26T00:00:00\", \"2013-09-26T00:00:00\", \"2014-06-05T00:00:00\", \"2014-06-21T00:00:00\", \"2014-07-18T00:00:00\", \"2014-07-25T00:00:00\", \"2014-07-31T00:00:00\", \"2015-01-30T00:00:00\", \"2015-02-12T00:00:00\", \"2015-04-18T00:00:00\", \"2015-07-26T00:00:00\", \"2016-03-17T00:00:00\", \"2019-07-26T00:00:00\", \"2020-08-09T00:00:00\", \"2020-08-11T00:00:00\", \"2020-08-13T00:00:00\", \"2020-09-06T00:00:00\", \"2020-10-03T00:00:00\"], \"xaxis\": \"x3\", \"y\": [1, 1, 2, 3, 3, 1, 4, 1, 1, 1, 1, 1, 1, 1, 2, 2, 1, 1, 1, 1, 1, 1, 1, 1, 1, 1, 1, 1, 1, 1, 1, 1, 1, 1, 1], \"yaxis\": \"y3\"}, {\"hovertemplate\": \"CATEGORY=BULK USER<br>REGION=VISAYAS<br>EFFECTIVE DATE=%{x}<br>RESOURCE=%{y}<extra></extra>\", \"legendgroup\": \"BULK USER\", \"marker\": {\"color\": \"#636efa\", \"symbol\": \"circle\"}, \"mode\": \"markers\", \"name\": \"BULK USER\", \"orientation\": \"v\", \"showlegend\": false, \"type\": \"scatter\", \"x\": [\"2010-12-26T00:00:00\", \"2010-12-26T00:00:00\", \"2011-12-26T00:00:00\", \"2012-03-26T00:00:00\", \"2013-03-14T00:00:00\", \"2013-09-14T00:00:00\", \"2017-04-26T00:00:00\"], \"xaxis\": \"x\", \"y\": [1, 12, 1, 1, 1, 1, 1], \"yaxis\": \"y\"}, {\"hovertemplate\": \"CATEGORY=ELECTRIC COOPERATIVE<br>REGION=LUZON<br>EFFECTIVE DATE=%{x}<br>RESOURCE=%{y}<extra></extra>\", \"legendgroup\": \"ELECTRIC COOPERATIVE\", \"marker\": {\"color\": \"#EF553B\", \"symbol\": \"circle\"}, \"mode\": \"markers\", \"name\": \"ELECTRIC COOPERATIVE\", \"orientation\": \"v\", \"showlegend\": true, \"type\": \"scatter\", \"x\": [\"2006-09-22T00:00:00\", \"2006-10-04T00:00:00\", \"2006-10-31T00:00:00\", \"2006-11-26T00:00:00\", \"2006-12-06T00:00:00\", \"2007-08-26T00:00:00\", \"2008-04-26T00:00:00\", \"2008-05-26T00:00:00\", \"2008-06-26T00:00:00\", \"2009-03-26T00:00:00\", \"2009-07-26T00:00:00\", \"2009-08-26T00:00:00\", \"2009-11-26T00:00:00\", \"2009-12-26T00:00:00\", \"2010-03-05T00:00:00\", \"2010-05-26T00:00:00\", \"2010-06-25T00:00:00\", \"2010-07-26T00:00:00\", \"2010-08-26T00:00:00\", \"2010-09-20T00:00:00\", \"2010-10-15T00:00:00\", \"2010-10-26T00:00:00\", \"2010-11-26T00:00:00\", \"2010-12-26T00:00:00\", \"2011-08-04T00:00:00\", \"2011-08-26T00:00:00\", \"2011-09-26T00:00:00\", \"2011-10-14T00:00:00\", \"2011-11-26T00:00:00\", \"2011-12-26T00:00:00\", \"2012-09-26T00:00:00\", \"2013-08-23T00:00:00\", \"2015-03-02T00:00:00\"], \"xaxis\": \"x3\", \"y\": [1, 1, 1, 1, 1, 1, 1, 1, 1, 1, 1, 1, 1, 2, 1, 1, 1, 2, 2, 1, 1, 1, 4, 1, 1, 1, 1, 1, 3, 2, 2, 1, 1], \"yaxis\": \"y3\"}, {\"hovertemplate\": \"CATEGORY=ELECTRIC COOPERATIVE<br>REGION=VISAYAS<br>EFFECTIVE DATE=%{x}<br>RESOURCE=%{y}<extra></extra>\", \"legendgroup\": \"ELECTRIC COOPERATIVE\", \"marker\": {\"color\": \"#EF553B\", \"symbol\": \"circle\"}, \"mode\": \"markers\", \"name\": \"ELECTRIC COOPERATIVE\", \"orientation\": \"v\", \"showlegend\": false, \"type\": \"scatter\", \"x\": [\"2010-12-26T00:00:00\", \"2011-04-26T00:00:00\", \"2012-03-26T00:00:00\", \"2012-09-21T00:00:00\", \"2014-03-04T00:00:00\", \"2014-12-17T00:00:00\", \"2015-02-26T00:00:00\"], \"xaxis\": \"x\", \"y\": [22, 1, 1, 1, 1, 1, 1], \"yaxis\": \"y\"}, {\"hovertemplate\": \"CATEGORY=GENERATOR<br>REGION=LUZON<br>EFFECTIVE DATE=%{x}<br>RESOURCE=%{y}<extra></extra>\", \"legendgroup\": \"GENERATOR\", \"marker\": {\"color\": \"#00cc96\", \"symbol\": \"circle\"}, \"mode\": \"markers\", \"name\": \"GENERATOR\", \"orientation\": \"v\", \"showlegend\": true, \"type\": \"scatter\", \"x\": [\"2006-06-26T00:00:00\", \"2006-06-26T00:00:00\", \"2006-11-18T00:00:00\", \"2006-11-26T00:00:00\", \"2007-01-05T00:00:00\", \"2007-04-26T00:00:00\", \"2008-04-17T00:00:00\", \"2008-07-11T00:00:00\", \"2008-10-26T00:00:00\", \"2009-05-26T00:00:00\", \"2009-10-01T00:00:00\", \"2009-11-06T00:00:00\", \"2009-12-04T00:00:00\", \"2010-01-19T00:00:00\", \"2010-01-26T00:00:00\", \"2010-06-26T00:00:00\", \"2010-08-26T00:00:00\", \"2010-09-06T00:00:00\", \"2010-09-13T00:00:00\", \"2011-02-26T00:00:00\", \"2011-05-26T00:00:00\", \"2011-06-01T00:00:00\", \"2012-03-26T00:00:00\", \"2012-07-26T00:00:00\", \"2012-08-07T00:00:00\", \"2012-12-06T00:00:00\", \"2013-01-17T00:00:00\", \"2013-03-13T00:00:00\", \"2013-11-04T00:00:00\", \"2014-05-24T00:00:00\", \"2014-06-09T00:00:00\", \"2014-08-28T00:00:00\", \"2014-10-31T00:00:00\", \"2014-11-01T00:00:00\", \"2014-11-04T00:00:00\", \"2014-11-06T00:00:00\", \"2015-01-06T00:00:00\", \"2015-01-22T00:00:00\", \"2015-04-16T00:00:00\", \"2015-04-23T00:00:00\", \"2015-04-24T00:00:00\", \"2015-05-06T00:00:00\", \"2015-08-11T00:00:00\", \"2015-08-13T00:00:00\", \"2015-08-14T00:00:00\", \"2015-08-17T00:00:00\", \"2015-08-27T00:00:00\", \"2015-10-09T00:00:00\", \"2015-12-17T00:00:00\", \"2015-12-17T00:00:00\", \"2016-01-20T00:00:00\", \"2016-01-22T00:00:00\", \"2016-02-20T00:00:00\", \"2016-02-22T00:00:00\", \"2016-02-23T00:00:00\", \"2016-03-02T00:00:00\", \"2016-03-03T00:00:00\", \"2016-03-09T00:00:00\", \"2016-03-10T00:00:00\", \"2016-03-11T00:00:00\", \"2016-03-14T00:00:00\", \"2016-03-15T00:00:00\", \"2016-04-01T00:00:00\", \"2016-04-08T00:00:00\", \"2016-04-15T00:00:00\", \"2016-04-21T00:00:00\", \"2016-06-22T00:00:00\", \"2016-07-02T00:00:00\", \"2016-08-20T00:00:00\", \"2016-09-07T00:00:00\", \"2016-11-04T00:00:00\", \"2016-11-11T00:00:00\", \"2016-12-02T00:00:00\", \"2017-03-14T00:00:00\", \"2017-07-27T00:00:00\", \"2017-09-08T00:00:00\", \"2017-10-14T00:00:00\", \"2017-11-09T00:00:00\", \"2017-12-08T00:00:00\", \"2017-12-30T00:00:00\", \"2018-01-05T00:00:00\", \"2018-01-31T00:00:00\", \"2018-09-12T00:00:00\", \"2019-03-14T00:00:00\", \"2019-04-13T00:00:00\", \"2019-04-22T00:00:00\", \"2019-04-25T00:00:00\", \"2019-06-01T00:00:00\", \"2019-06-15T00:00:00\", \"2019-06-15T00:00:00\", \"2019-07-16T00:00:00\", \"2019-08-08T00:00:00\", \"2019-09-21T00:00:00\", \"2019-11-15T00:00:00\", \"2019-12-07T00:00:00\", \"2019-12-14T00:00:00\", \"2020-02-26T00:00:00\", \"2020-03-18T00:00:00\", \"2020-03-20T00:00:00\", \"2020-05-30T00:00:00\", \"2020-08-22T00:00:00\", \"2020-09-09T00:00:00\"], \"xaxis\": \"x3\", \"y\": [1, 16, 3, 1, 1, 4, 2, 4, 1, 8, 2, 2, 2, 8, 3, 2, 1, 1, 1, 1, 2, 3, 1, 1, 1, 1, 1, 1, 1, 1, 2, 1, 2, 1, 1, 1, 1, 1, 1, 2, 1, 1, 2, 2, 1, 1, 1, 1, 1, 2, 3, 1, 1, 1, 1, 1, 1, 1, 4, 1, 2, 4, 1, 2, 1, 1, 1, 1, 1, 1, 1, 2, 1, 2, 2, 1, 2, 1, 1, 1, 0, 1, 1, 1, 1, 2, 1, 1, 1, 1, 1, 1, 1, 1, 2, 2, 1, 1, 1, 3, 1, 1], \"yaxis\": \"y3\"}, {\"hovertemplate\": \"CATEGORY=GENERATOR<br>REGION=MINDANAO<br>EFFECTIVE DATE=%{x}<br>RESOURCE=%{y}<extra></extra>\", \"legendgroup\": \"GENERATOR\", \"marker\": {\"color\": \"#00cc96\", \"symbol\": \"circle\"}, \"mode\": \"markers\", \"name\": \"GENERATOR\", \"orientation\": \"v\", \"showlegend\": false, \"type\": \"scatter\", \"x\": [\"2019-08-01T00:00:00\", \"2019-09-02T00:00:00\", \"2019-09-24T00:00:00\", \"2019-09-30T00:00:00\", \"2019-12-12T00:00:00\", \"2019-12-28T00:00:00\", \"2020-01-08T00:00:00\", \"2020-03-14T00:00:00\", \"2020-03-27T00:00:00\", \"2020-04-08T00:00:00\", \"2020-04-17T00:00:00\", \"2020-04-23T00:00:00\", \"2020-04-25T00:00:00\", \"2020-04-28T00:00:00\", \"2020-05-24T00:00:00\", \"2020-05-29T00:00:00\", \"2020-06-03T00:00:00\", \"2020-06-06T00:00:00\", \"2020-08-07T00:00:00\", \"2020-10-03T00:00:00\"], \"xaxis\": \"x2\", \"y\": [2, 2, 2, 1, 2, 2, 4, 2, 1, 2, 2, 1, 1, 1, 1, 1, 2, 1, 2, 1], \"yaxis\": \"y2\"}, {\"hovertemplate\": \"CATEGORY=GENERATOR<br>REGION=VISAYAS<br>EFFECTIVE DATE=%{x}<br>RESOURCE=%{y}<extra></extra>\", \"legendgroup\": \"GENERATOR\", \"marker\": {\"color\": \"#00cc96\", \"symbol\": \"circle\"}, \"mode\": \"markers\", \"name\": \"GENERATOR\", \"orientation\": \"v\", \"showlegend\": false, \"type\": \"scatter\", \"x\": [\"2010-12-26T00:00:00\", \"2011-01-24T00:00:00\", \"2011-02-26T00:00:00\", \"2011-02-28T00:00:00\", \"2011-03-26T00:00:00\", \"2011-03-26T00:00:00\", \"2011-05-31T00:00:00\", \"2012-02-26T00:00:00\", \"2014-04-12T00:00:00\", \"2014-05-29T00:00:00\", \"2014-06-14T00:00:00\", \"2014-08-16T00:00:00\", \"2014-10-31T00:00:00\", \"2014-12-18T00:00:00\", \"2015-01-06T00:00:00\", \"2015-01-29T00:00:00\", \"2015-03-24T00:00:00\", \"2015-05-24T00:00:00\", \"2015-09-12T00:00:00\", \"2015-11-16T00:00:00\", \"2016-01-04T00:00:00\", \"2016-01-26T00:00:00\", \"2016-02-24T00:00:00\", \"2016-02-29T00:00:00\", \"2016-03-01T00:00:00\", \"2016-03-04T00:00:00\", \"2016-03-08T00:00:00\", \"2016-03-15T00:00:00\", \"2016-03-23T00:00:00\", \"2016-05-25T00:00:00\", \"2016-06-29T00:00:00\", \"2016-08-19T00:00:00\", \"2017-02-01T00:00:00\", \"2017-06-09T00:00:00\", \"2017-11-14T00:00:00\", \"2017-11-24T00:00:00\", \"2017-12-23T00:00:00\", \"2018-05-12T00:00:00\", \"2018-07-13T00:00:00\", \"2018-12-21T00:00:00\", \"2019-01-22T00:00:00\", \"2019-05-04T00:00:00\", \"2019-05-14T00:00:00\", \"2019-07-27T00:00:00\", \"2019-09-12T00:00:00\", \"2019-10-29T00:00:00\", \"2019-11-09T00:00:00\", \"2019-12-07T00:00:00\", \"2019-12-23T00:00:00\", \"2019-12-24T00:00:00\", \"2020-04-14T00:00:00\"], \"xaxis\": \"x\", \"y\": [20, 2, 1, 1, 1, 1, 1, 1, 1, 1, 2, 1, 1, 1, 1, 1, 1, 2, 1, 1, 2, 2, 1, 1, 1, 2, 2, 1, 2, 1, 1, 1, 1, 1, 1, 1, 2, 1, 1, 1, 1, 1, 1, 1, 1, 1, 1, 1, 1, 1, 1], \"yaxis\": \"y\"}, {\"hovertemplate\": \"CATEGORY=PRIVATE DISTRIBUTION UTILITY<br>REGION=LUZON<br>EFFECTIVE DATE=%{x}<br>RESOURCE=%{y}<extra></extra>\", \"legendgroup\": \"PRIVATE DISTRIBUTION UTILITY\", \"marker\": {\"color\": \"#ab63fa\", \"symbol\": \"circle\"}, \"mode\": \"markers\", \"name\": \"PRIVATE DISTRIBUTION UTILITY\", \"orientation\": \"v\", \"showlegend\": true, \"type\": \"scatter\", \"x\": [\"2006-06-26T00:00:00\", \"2009-09-25T00:00:00\", \"2009-11-26T00:00:00\", \"2010-01-26T00:00:00\", \"2010-10-26T00:00:00\", \"2011-11-07T00:00:00\", \"2013-05-16T00:00:00\", \"2013-08-21T00:00:00\", \"2014-02-11T00:00:00\", \"2014-03-10T00:00:00\", \"2014-11-06T00:00:00\", \"2015-10-01T00:00:00\", \"2016-08-25T00:00:00\", \"2020-07-20T00:00:00\"], \"xaxis\": \"x3\", \"y\": [1, 1, 1, 1, 1, 1, 1, 1, 1, 1, 1, 1, 1, 1], \"yaxis\": \"y3\"}, {\"hovertemplate\": \"CATEGORY=PRIVATE DISTRIBUTION UTILITY<br>REGION=VISAYAS<br>EFFECTIVE DATE=%{x}<br>RESOURCE=%{y}<extra></extra>\", \"legendgroup\": \"PRIVATE DISTRIBUTION UTILITY\", \"marker\": {\"color\": \"#ab63fa\", \"symbol\": \"circle\"}, \"mode\": \"markers\", \"name\": \"PRIVATE DISTRIBUTION UTILITY\", \"orientation\": \"v\", \"showlegend\": false, \"type\": \"scatter\", \"x\": [\"2010-12-26T00:00:00\", \"2018-06-23T00:00:00\", \"2020-03-27T00:00:00\"], \"xaxis\": \"x\", \"y\": [3, 1, 1], \"yaxis\": \"y\"}],                        {\"annotations\": [{\"font\": {}, \"showarrow\": false, \"text\": \"REGION=VISAYAS\", \"textangle\": 90, \"x\": 0.98, \"xanchor\": \"left\", \"xref\": \"paper\", \"y\": 0.15666666666666665, \"yanchor\": \"middle\", \"yref\": \"paper\"}, {\"font\": {}, \"showarrow\": false, \"text\": \"REGION=MINDANAO\", \"textangle\": 90, \"x\": 0.98, \"xanchor\": \"left\", \"xref\": \"paper\", \"y\": 0.4999999999999999, \"yanchor\": \"middle\", \"yref\": \"paper\"}, {\"font\": {}, \"showarrow\": false, \"text\": \"REGION=LUZON\", \"textangle\": 90, \"x\": 0.98, \"xanchor\": \"left\", \"xref\": \"paper\", \"y\": 0.8433333333333332, \"yanchor\": \"middle\", \"yref\": \"paper\"}], \"legend\": {\"title\": {\"text\": \"CATEGORY\"}, \"tracegroupgap\": 0}, \"margin\": {\"t\": 60}, \"template\": {\"data\": {\"bar\": [{\"error_x\": {\"color\": \"#2a3f5f\"}, \"error_y\": {\"color\": \"#2a3f5f\"}, \"marker\": {\"line\": {\"color\": \"#E5ECF6\", \"width\": 0.5}}, \"type\": \"bar\"}], \"barpolar\": [{\"marker\": {\"line\": {\"color\": \"#E5ECF6\", \"width\": 0.5}}, \"type\": \"barpolar\"}], \"carpet\": [{\"aaxis\": {\"endlinecolor\": \"#2a3f5f\", \"gridcolor\": \"white\", \"linecolor\": \"white\", \"minorgridcolor\": \"white\", \"startlinecolor\": \"#2a3f5f\"}, \"baxis\": {\"endlinecolor\": \"#2a3f5f\", \"gridcolor\": \"white\", \"linecolor\": \"white\", \"minorgridcolor\": \"white\", \"startlinecolor\": \"#2a3f5f\"}, \"type\": \"carpet\"}], \"choropleth\": [{\"colorbar\": {\"outlinewidth\": 0, \"ticks\": \"\"}, \"type\": \"choropleth\"}], \"contour\": [{\"colorbar\": {\"outlinewidth\": 0, \"ticks\": \"\"}, \"colorscale\": [[0.0, \"#0d0887\"], [0.1111111111111111, \"#46039f\"], [0.2222222222222222, \"#7201a8\"], [0.3333333333333333, \"#9c179e\"], [0.4444444444444444, \"#bd3786\"], [0.5555555555555556, \"#d8576b\"], [0.6666666666666666, \"#ed7953\"], [0.7777777777777778, \"#fb9f3a\"], [0.8888888888888888, \"#fdca26\"], [1.0, \"#f0f921\"]], \"type\": \"contour\"}], \"contourcarpet\": [{\"colorbar\": {\"outlinewidth\": 0, \"ticks\": \"\"}, \"type\": \"contourcarpet\"}], \"heatmap\": [{\"colorbar\": {\"outlinewidth\": 0, \"ticks\": \"\"}, \"colorscale\": [[0.0, \"#0d0887\"], [0.1111111111111111, \"#46039f\"], [0.2222222222222222, \"#7201a8\"], [0.3333333333333333, \"#9c179e\"], [0.4444444444444444, \"#bd3786\"], [0.5555555555555556, \"#d8576b\"], [0.6666666666666666, \"#ed7953\"], [0.7777777777777778, \"#fb9f3a\"], [0.8888888888888888, \"#fdca26\"], [1.0, \"#f0f921\"]], \"type\": \"heatmap\"}], \"heatmapgl\": [{\"colorbar\": {\"outlinewidth\": 0, \"ticks\": \"\"}, \"colorscale\": [[0.0, \"#0d0887\"], [0.1111111111111111, \"#46039f\"], [0.2222222222222222, \"#7201a8\"], [0.3333333333333333, \"#9c179e\"], [0.4444444444444444, \"#bd3786\"], [0.5555555555555556, \"#d8576b\"], [0.6666666666666666, \"#ed7953\"], [0.7777777777777778, \"#fb9f3a\"], [0.8888888888888888, \"#fdca26\"], [1.0, \"#f0f921\"]], \"type\": \"heatmapgl\"}], \"histogram\": [{\"marker\": {\"colorbar\": {\"outlinewidth\": 0, \"ticks\": \"\"}}, \"type\": \"histogram\"}], \"histogram2d\": [{\"colorbar\": {\"outlinewidth\": 0, \"ticks\": \"\"}, \"colorscale\": [[0.0, \"#0d0887\"], [0.1111111111111111, \"#46039f\"], [0.2222222222222222, \"#7201a8\"], [0.3333333333333333, \"#9c179e\"], [0.4444444444444444, \"#bd3786\"], [0.5555555555555556, \"#d8576b\"], [0.6666666666666666, \"#ed7953\"], [0.7777777777777778, \"#fb9f3a\"], [0.8888888888888888, \"#fdca26\"], [1.0, \"#f0f921\"]], \"type\": \"histogram2d\"}], \"histogram2dcontour\": [{\"colorbar\": {\"outlinewidth\": 0, \"ticks\": \"\"}, \"colorscale\": [[0.0, \"#0d0887\"], [0.1111111111111111, \"#46039f\"], [0.2222222222222222, \"#7201a8\"], [0.3333333333333333, \"#9c179e\"], [0.4444444444444444, \"#bd3786\"], [0.5555555555555556, \"#d8576b\"], [0.6666666666666666, \"#ed7953\"], [0.7777777777777778, \"#fb9f3a\"], [0.8888888888888888, \"#fdca26\"], [1.0, \"#f0f921\"]], \"type\": \"histogram2dcontour\"}], \"mesh3d\": [{\"colorbar\": {\"outlinewidth\": 0, \"ticks\": \"\"}, \"type\": \"mesh3d\"}], \"parcoords\": [{\"line\": {\"colorbar\": {\"outlinewidth\": 0, \"ticks\": \"\"}}, \"type\": \"parcoords\"}], \"pie\": [{\"automargin\": true, \"type\": \"pie\"}], \"scatter\": [{\"marker\": {\"colorbar\": {\"outlinewidth\": 0, \"ticks\": \"\"}}, \"type\": \"scatter\"}], \"scatter3d\": [{\"line\": {\"colorbar\": {\"outlinewidth\": 0, \"ticks\": \"\"}}, \"marker\": {\"colorbar\": {\"outlinewidth\": 0, \"ticks\": \"\"}}, \"type\": \"scatter3d\"}], \"scattercarpet\": [{\"marker\": {\"colorbar\": {\"outlinewidth\": 0, \"ticks\": \"\"}}, \"type\": \"scattercarpet\"}], \"scattergeo\": [{\"marker\": {\"colorbar\": {\"outlinewidth\": 0, \"ticks\": \"\"}}, \"type\": \"scattergeo\"}], \"scattergl\": [{\"marker\": {\"colorbar\": {\"outlinewidth\": 0, \"ticks\": \"\"}}, \"type\": \"scattergl\"}], \"scattermapbox\": [{\"marker\": {\"colorbar\": {\"outlinewidth\": 0, \"ticks\": \"\"}}, \"type\": \"scattermapbox\"}], \"scatterpolar\": [{\"marker\": {\"colorbar\": {\"outlinewidth\": 0, \"ticks\": \"\"}}, \"type\": \"scatterpolar\"}], \"scatterpolargl\": [{\"marker\": {\"colorbar\": {\"outlinewidth\": 0, \"ticks\": \"\"}}, \"type\": \"scatterpolargl\"}], \"scatterternary\": [{\"marker\": {\"colorbar\": {\"outlinewidth\": 0, \"ticks\": \"\"}}, \"type\": \"scatterternary\"}], \"surface\": [{\"colorbar\": {\"outlinewidth\": 0, \"ticks\": \"\"}, \"colorscale\": [[0.0, \"#0d0887\"], [0.1111111111111111, \"#46039f\"], [0.2222222222222222, \"#7201a8\"], [0.3333333333333333, \"#9c179e\"], [0.4444444444444444, \"#bd3786\"], [0.5555555555555556, \"#d8576b\"], [0.6666666666666666, \"#ed7953\"], [0.7777777777777778, \"#fb9f3a\"], [0.8888888888888888, \"#fdca26\"], [1.0, \"#f0f921\"]], \"type\": \"surface\"}], \"table\": [{\"cells\": {\"fill\": {\"color\": \"#EBF0F8\"}, \"line\": {\"color\": \"white\"}}, \"header\": {\"fill\": {\"color\": \"#C8D4E3\"}, \"line\": {\"color\": \"white\"}}, \"type\": \"table\"}]}, \"layout\": {\"annotationdefaults\": {\"arrowcolor\": \"#2a3f5f\", \"arrowhead\": 0, \"arrowwidth\": 1}, \"coloraxis\": {\"colorbar\": {\"outlinewidth\": 0, \"ticks\": \"\"}}, \"colorscale\": {\"diverging\": [[0, \"#8e0152\"], [0.1, \"#c51b7d\"], [0.2, \"#de77ae\"], [0.3, \"#f1b6da\"], [0.4, \"#fde0ef\"], [0.5, \"#f7f7f7\"], [0.6, \"#e6f5d0\"], [0.7, \"#b8e186\"], [0.8, \"#7fbc41\"], [0.9, \"#4d9221\"], [1, \"#276419\"]], \"sequential\": [[0.0, \"#0d0887\"], [0.1111111111111111, \"#46039f\"], [0.2222222222222222, \"#7201a8\"], [0.3333333333333333, \"#9c179e\"], [0.4444444444444444, \"#bd3786\"], [0.5555555555555556, \"#d8576b\"], [0.6666666666666666, \"#ed7953\"], [0.7777777777777778, \"#fb9f3a\"], [0.8888888888888888, \"#fdca26\"], [1.0, \"#f0f921\"]], \"sequentialminus\": [[0.0, \"#0d0887\"], [0.1111111111111111, \"#46039f\"], [0.2222222222222222, \"#7201a8\"], [0.3333333333333333, \"#9c179e\"], [0.4444444444444444, \"#bd3786\"], [0.5555555555555556, \"#d8576b\"], [0.6666666666666666, \"#ed7953\"], [0.7777777777777778, \"#fb9f3a\"], [0.8888888888888888, \"#fdca26\"], [1.0, \"#f0f921\"]]}, \"colorway\": [\"#636efa\", \"#EF553B\", \"#00cc96\", \"#ab63fa\", \"#FFA15A\", \"#19d3f3\", \"#FF6692\", \"#B6E880\", \"#FF97FF\", \"#FECB52\"], \"font\": {\"color\": \"#2a3f5f\"}, \"geo\": {\"bgcolor\": \"white\", \"lakecolor\": \"white\", \"landcolor\": \"#E5ECF6\", \"showlakes\": true, \"showland\": true, \"subunitcolor\": \"white\"}, \"hoverlabel\": {\"align\": \"left\"}, \"hovermode\": \"closest\", \"mapbox\": {\"style\": \"light\"}, \"paper_bgcolor\": \"white\", \"plot_bgcolor\": \"#E5ECF6\", \"polar\": {\"angularaxis\": {\"gridcolor\": \"white\", \"linecolor\": \"white\", \"ticks\": \"\"}, \"bgcolor\": \"#E5ECF6\", \"radialaxis\": {\"gridcolor\": \"white\", \"linecolor\": \"white\", \"ticks\": \"\"}}, \"scene\": {\"xaxis\": {\"backgroundcolor\": \"#E5ECF6\", \"gridcolor\": \"white\", \"gridwidth\": 2, \"linecolor\": \"white\", \"showbackground\": true, \"ticks\": \"\", \"zerolinecolor\": \"white\"}, \"yaxis\": {\"backgroundcolor\": \"#E5ECF6\", \"gridcolor\": \"white\", \"gridwidth\": 2, \"linecolor\": \"white\", \"showbackground\": true, \"ticks\": \"\", \"zerolinecolor\": \"white\"}, \"zaxis\": {\"backgroundcolor\": \"#E5ECF6\", \"gridcolor\": \"white\", \"gridwidth\": 2, \"linecolor\": \"white\", \"showbackground\": true, \"ticks\": \"\", \"zerolinecolor\": \"white\"}}, \"shapedefaults\": {\"line\": {\"color\": \"#2a3f5f\"}}, \"ternary\": {\"aaxis\": {\"gridcolor\": \"white\", \"linecolor\": \"white\", \"ticks\": \"\"}, \"baxis\": {\"gridcolor\": \"white\", \"linecolor\": \"white\", \"ticks\": \"\"}, \"bgcolor\": \"#E5ECF6\", \"caxis\": {\"gridcolor\": \"white\", \"linecolor\": \"white\", \"ticks\": \"\"}}, \"title\": {\"x\": 0.05}, \"xaxis\": {\"automargin\": true, \"gridcolor\": \"white\", \"linecolor\": \"white\", \"ticks\": \"\", \"title\": {\"standoff\": 15}, \"zerolinecolor\": \"white\", \"zerolinewidth\": 2}, \"yaxis\": {\"automargin\": true, \"gridcolor\": \"white\", \"linecolor\": \"white\", \"ticks\": \"\", \"title\": {\"standoff\": 15}, \"zerolinecolor\": \"white\", \"zerolinewidth\": 2}}}, \"xaxis\": {\"anchor\": \"y\", \"domain\": [0.0, 0.98], \"rangeslider\": {\"visible\": false}, \"title\": {\"text\": \"EFFECTIVE DATE\"}}, \"xaxis2\": {\"anchor\": \"y2\", \"domain\": [0.0, 0.98], \"matches\": \"x\", \"rangeslider\": {\"visible\": false}, \"showticklabels\": false}, \"xaxis3\": {\"anchor\": \"y3\", \"domain\": [0.0, 0.98], \"matches\": \"x\", \"rangeslider\": {\"visible\": false}, \"showticklabels\": false}, \"yaxis\": {\"anchor\": \"x\", \"domain\": [0.0, 0.3133333333333333], \"range\": [\"0\", \"25\"], \"title\": {\"text\": \"RESOURCE\"}}, \"yaxis2\": {\"anchor\": \"x2\", \"domain\": [0.34333333333333327, 0.6566666666666665], \"matches\": \"y\", \"range\": [\"0\", \"25\"], \"title\": {\"text\": \"RESOURCE\"}}, \"yaxis3\": {\"anchor\": \"x3\", \"domain\": [0.6866666666666665, 0.9999999999999998], \"matches\": \"y\", \"range\": [\"0\", \"25\"], \"title\": {\"text\": \"RESOURCE\"}}},                        {\"responsive\": true}                    ).then(function(){\n",
       "                            \n",
       "var gd = document.getElementById('65edd238-0e5d-4397-8593-1ea1d4678c9c');\n",
       "var x = new MutationObserver(function (mutations, observer) {{\n",
       "        var display = window.getComputedStyle(gd).display;\n",
       "        if (!display || display === 'none') {{\n",
       "            console.log([gd, 'removed!']);\n",
       "            Plotly.purge(gd);\n",
       "            observer.disconnect();\n",
       "        }}\n",
       "}});\n",
       "\n",
       "// Listen for the removal of the full notebook cells\n",
       "var notebookContainer = gd.closest('#notebook-container');\n",
       "if (notebookContainer) {{\n",
       "    x.observe(notebookContainer, {childList: true});\n",
       "}}\n",
       "\n",
       "// Listen for the clearing of the current output cell\n",
       "var outputEl = gd.closest('.output');\n",
       "if (outputEl) {{\n",
       "    x.observe(outputEl, {childList: true});\n",
       "}}\n",
       "\n",
       "                        })                };                });            </script>        </div>"
      ]
     },
     "metadata": {},
     "output_type": "display_data"
    }
   ],
   "source": [
    "import plotly.express as px\n",
    "\n",
    "fig = px.scatter(g1, x='EFFECTIVE DATE', y='RESOURCE', range_y=['0','25'], color = 'CATEGORY',facet_row=\"REGION\")\n",
    "fig.update_xaxes(rangeslider_visible=False)\n",
    "fig.show()"
   ]
  },
  {
   "cell_type": "markdown",
   "metadata": {},
   "source": [
    "---"
   ]
  },
  {
   "cell_type": "markdown",
   "metadata": {},
   "source": [
    "### Retail Market\n",
    "\n",
    "This section discusses the Retail Market participants."
   ]
  },
  {
   "cell_type": "code",
   "execution_count": 12,
   "metadata": {},
   "outputs": [
    {
     "data": {
      "text/plain": [
       "Index(['NAME', 'SHORT NAME', 'REGION', 'CATEGORY', 'MEMBERSHIP',\n",
       "       'EFFECTIVE DATE', 'STATUS'],\n",
       "      dtype='object')"
      ]
     },
     "execution_count": 12,
     "metadata": {},
     "output_type": "execute_result"
    }
   ],
   "source": [
    "df_retail.columns"
   ]
  },
  {
   "cell_type": "code",
   "execution_count": 13,
   "metadata": {},
   "outputs": [
    {
     "data": {
      "text/plain": [
       "array(['Contestable Customer', 'Retail Metering Services Provider',\n",
       "       'Local Retail Electricity Supplier', 'Supplier of Last Resort',\n",
       "       'Directly Connected Contestable Customer',\n",
       "       'Retail Electricity Supplier'], dtype=object)"
      ]
     },
     "execution_count": 13,
     "metadata": {},
     "output_type": "execute_result"
    }
   ],
   "source": [
    "df_retail['CATEGORY'].unique()"
   ]
  },
  {
   "cell_type": "code",
   "execution_count": 100,
   "metadata": {},
   "outputs": [
    {
     "data": {
      "text/html": [
       "<div>\n",
       "<style scoped>\n",
       "    .dataframe tbody tr th:only-of-type {\n",
       "        vertical-align: middle;\n",
       "    }\n",
       "\n",
       "    .dataframe tbody tr th {\n",
       "        vertical-align: top;\n",
       "    }\n",
       "\n",
       "    .dataframe thead th {\n",
       "        text-align: right;\n",
       "    }\n",
       "</style>\n",
       "<table border=\"1\" class=\"dataframe\">\n",
       "  <thead>\n",
       "    <tr style=\"text-align: right;\">\n",
       "      <th></th>\n",
       "      <th>NAME</th>\n",
       "      <th>SHORT NAME</th>\n",
       "      <th>REGION</th>\n",
       "      <th>CATEGORY</th>\n",
       "      <th>MEMBERSHIP</th>\n",
       "      <th>EFFECTIVE DATE</th>\n",
       "      <th>STATUS</th>\n",
       "    </tr>\n",
       "  </thead>\n",
       "  <tbody>\n",
       "    <tr>\n",
       "      <th>101</th>\n",
       "      <td>GNPower Ltd. Co.</td>\n",
       "      <td>GNPLCRES</td>\n",
       "      <td>Luzon/Visayas</td>\n",
       "      <td>Retail Electricity Supplier</td>\n",
       "      <td>Direct</td>\n",
       "      <td>15-Apr-14</td>\n",
       "      <td>Registered</td>\n",
       "    </tr>\n",
       "    <tr>\n",
       "      <th>171</th>\n",
       "      <td>Waterfront Mactan Casino Hotel Inc.</td>\n",
       "      <td>WAHCRES</td>\n",
       "      <td>Luzon/Visayas</td>\n",
       "      <td>Retail Electricity Supplier</td>\n",
       "      <td>Direct</td>\n",
       "      <td>26-Oct-15</td>\n",
       "      <td>Registered</td>\n",
       "    </tr>\n",
       "    <tr>\n",
       "      <th>179</th>\n",
       "      <td>GNPower Mariveles Coal Plant Ltd. Co.</td>\n",
       "      <td>GNPRES</td>\n",
       "      <td>Luzon/Visayas</td>\n",
       "      <td>Retail Electricity Supplier</td>\n",
       "      <td>Direct</td>\n",
       "      <td>15-Mar-16</td>\n",
       "      <td>Ceased</td>\n",
       "    </tr>\n",
       "    <tr>\n",
       "      <th>220</th>\n",
       "      <td>Millennium Power RES Inc.</td>\n",
       "      <td>MPRIRES</td>\n",
       "      <td>Luzon/Visayas</td>\n",
       "      <td>Retail Electricity Supplier</td>\n",
       "      <td>Direct</td>\n",
       "      <td>18-Aug-16</td>\n",
       "      <td>Registered</td>\n",
       "    </tr>\n",
       "    <tr>\n",
       "      <th>253</th>\n",
       "      <td>FDC Retail Electricity Sales Corporation</td>\n",
       "      <td>FDCRESC</td>\n",
       "      <td>Luzon/Visayas</td>\n",
       "      <td>Retail Electricity Supplier</td>\n",
       "      <td>Direct</td>\n",
       "      <td>04-Oct-16</td>\n",
       "      <td>Registered</td>\n",
       "    </tr>\n",
       "  </tbody>\n",
       "</table>\n",
       "</div>"
      ],
      "text/plain": [
       "                                         NAME SHORT NAME         REGION  \\\n",
       "101                          GNPower Ltd. Co.   GNPLCRES  Luzon/Visayas   \n",
       "171       Waterfront Mactan Casino Hotel Inc.    WAHCRES  Luzon/Visayas   \n",
       "179     GNPower Mariveles Coal Plant Ltd. Co.     GNPRES  Luzon/Visayas   \n",
       "220                 Millennium Power RES Inc.    MPRIRES  Luzon/Visayas   \n",
       "253  FDC Retail Electricity Sales Corporation    FDCRESC  Luzon/Visayas   \n",
       "\n",
       "                        CATEGORY MEMBERSHIP EFFECTIVE DATE      STATUS  \n",
       "101  Retail Electricity Supplier     Direct      15-Apr-14  Registered  \n",
       "171  Retail Electricity Supplier     Direct      26-Oct-15  Registered  \n",
       "179  Retail Electricity Supplier     Direct      15-Mar-16      Ceased  \n",
       "220  Retail Electricity Supplier     Direct      18-Aug-16  Registered  \n",
       "253  Retail Electricity Supplier     Direct      04-Oct-16  Registered  "
      ]
     },
     "execution_count": 100,
     "metadata": {},
     "output_type": "execute_result"
    }
   ],
   "source": [
    "df_retail[df_retail['CATEGORY'] =='Retail Electricity Supplier'].head()"
   ]
  },
  {
   "cell_type": "code",
   "execution_count": null,
   "metadata": {},
   "outputs": [],
   "source": []
  }
 ],
 "metadata": {
  "kernelspec": {
   "display_name": "env-jupyterbook",
   "language": "python",
   "name": "env-jupyterbook"
  },
  "language_info": {
   "codemirror_mode": {
    "name": "ipython",
    "version": 3
   },
   "file_extension": ".py",
   "mimetype": "text/x-python",
   "name": "python",
   "nbconvert_exporter": "python",
   "pygments_lexer": "ipython3",
   "version": "3.7.9"
  }
 },
 "nbformat": 4,
 "nbformat_minor": 4
}
