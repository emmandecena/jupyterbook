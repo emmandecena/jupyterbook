{
 "cells": [
  {
   "cell_type": "code",
   "execution_count": 1,
   "metadata": {},
   "outputs": [
    {
     "name": "stdout",
     "output_type": "stream",
     "text": [
      "Optimal Solutions:\n"
     ]
    },
    {
     "name": "stdout",
     "output_type": "stream",
     "text": [
      "x = 40.0"
     ]
    },
    {
     "name": "stdout",
     "output_type": "stream",
     "text": [
      "\n",
      "y = -3.3333333333333335\n",
      "z = 0.0\n",
      "Coin0506I Presolve 0 (-2) rows, 0 (-3) columns and 0 (-6) elements\n",
      "Clp3002W Empty problem - 0 rows, 0 columns and 0 elements\n",
      "Clp0000I Optimal - objective value 36.666667\n",
      "Coin0511I After Postsolve, objective 36.666667, infeasibilities - dual 0 (0), primal 0 (0)\n",
      "Clp0032I Optimal objective 36.66666667 - 0 iterations time 0.002, Presolve 0.00\n"
     ]
    }
   ],
   "source": [
    "using JuMP, Clp\n",
    "\n",
    "\n",
    "m = Model(Clp.Optimizer)\n",
    "\n",
    "@variable(m, 0<= x <=40)\n",
    "@variable(m, y <=0)\n",
    "@variable(m, z <=0)\n",
    "@objective(m, Max, x + y + z)\n",
    "\n",
    "@constraint(m, const1, -x +  y + z <= 20)\n",
    "@constraint(m, const2,  x + 3y + z <= 30)\n",
    "\n",
    "optimize!(m)\n",
    "println(\"Optimal Solutions:\")\n",
    "println(\"x = \", getvalue(x))\n",
    "println(\"y = \", getvalue(y))\n",
    "println(\"z = \", getvalue(z))\n"
   ]
  },
  {
   "cell_type": "code",
   "execution_count": null,
   "metadata": {},
   "outputs": [],
   "source": []
  }
 ],
 "metadata": {
  "kernelspec": {
   "display_name": "Julia 1.5.2",
   "language": "julia",
   "name": "julia-1.5"
  },
  "language_info": {
   "file_extension": ".jl",
   "mimetype": "application/julia",
   "name": "julia",
   "version": "1.5.2"
  }
 },
 "nbformat": 4,
 "nbformat_minor": 4
}